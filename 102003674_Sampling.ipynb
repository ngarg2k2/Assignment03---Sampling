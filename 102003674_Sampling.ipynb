{
 "cells": [
  {
   "attachments": {},
   "cell_type": "markdown",
   "id": "8ae4d26f",
   "metadata": {},
   "source": [
    "Name: Nipun Garg"
   ]
  },
  {
   "attachments": {},
   "cell_type": "markdown",
   "id": "c74aaa83",
   "metadata": {},
   "source": [
    "Roll No: 102003674\n"
   ]
  },
  {
   "attachments": {},
   "cell_type": "markdown",
   "id": "a9c30c5e",
   "metadata": {},
   "source": [
    "Group: 3CO27"
   ]
  },
  {
   "attachments": {},
   "cell_type": "markdown",
   "id": "07ce2ecc",
   "metadata": {},
   "source": [
    "\n",
    "Sampling assignment 3"
   ]
  },
  {
   "cell_type": "code",
   "execution_count": 78,
   "id": "d0365502",
   "metadata": {},
   "outputs": [],
   "source": [
    "import pandas as pd\n",
    "import numpy as np"
   ]
  },
  {
   "cell_type": "code",
   "execution_count": 79,
   "id": "2d85b53c",
   "metadata": {},
   "outputs": [],
   "source": [
    "data=pd.read_csv(\"Creditcard_data.csv\")"
   ]
  },
  {
   "cell_type": "code",
   "execution_count": 80,
   "id": "349febda",
   "metadata": {},
   "outputs": [
    {
     "data": {
      "text/html": [
       "<div>\n",
       "<style scoped>\n",
       "    .dataframe tbody tr th:only-of-type {\n",
       "        vertical-align: middle;\n",
       "    }\n",
       "\n",
       "    .dataframe tbody tr th {\n",
       "        vertical-align: top;\n",
       "    }\n",
       "\n",
       "    .dataframe thead th {\n",
       "        text-align: right;\n",
       "    }\n",
       "</style>\n",
       "<table border=\"1\" class=\"dataframe\">\n",
       "  <thead>\n",
       "    <tr style=\"text-align: right;\">\n",
       "      <th></th>\n",
       "      <th>Time</th>\n",
       "      <th>V1</th>\n",
       "      <th>V2</th>\n",
       "      <th>V3</th>\n",
       "      <th>V4</th>\n",
       "      <th>V5</th>\n",
       "      <th>V6</th>\n",
       "      <th>V7</th>\n",
       "      <th>V8</th>\n",
       "      <th>V9</th>\n",
       "      <th>...</th>\n",
       "      <th>V21</th>\n",
       "      <th>V22</th>\n",
       "      <th>V23</th>\n",
       "      <th>V24</th>\n",
       "      <th>V25</th>\n",
       "      <th>V26</th>\n",
       "      <th>V27</th>\n",
       "      <th>V28</th>\n",
       "      <th>Amount</th>\n",
       "      <th>Class</th>\n",
       "    </tr>\n",
       "  </thead>\n",
       "  <tbody>\n",
       "    <tr>\n",
       "      <th>0</th>\n",
       "      <td>0</td>\n",
       "      <td>-1.359807</td>\n",
       "      <td>-0.072781</td>\n",
       "      <td>2.536347</td>\n",
       "      <td>1.378155</td>\n",
       "      <td>-0.338321</td>\n",
       "      <td>0.462388</td>\n",
       "      <td>0.239599</td>\n",
       "      <td>0.098698</td>\n",
       "      <td>0.363787</td>\n",
       "      <td>...</td>\n",
       "      <td>-0.018307</td>\n",
       "      <td>0.277838</td>\n",
       "      <td>-0.110474</td>\n",
       "      <td>0.066928</td>\n",
       "      <td>0.128539</td>\n",
       "      <td>-0.189115</td>\n",
       "      <td>0.133558</td>\n",
       "      <td>-0.021053</td>\n",
       "      <td>149.62</td>\n",
       "      <td>0</td>\n",
       "    </tr>\n",
       "    <tr>\n",
       "      <th>1</th>\n",
       "      <td>0</td>\n",
       "      <td>1.191857</td>\n",
       "      <td>0.266151</td>\n",
       "      <td>0.166480</td>\n",
       "      <td>0.448154</td>\n",
       "      <td>0.060018</td>\n",
       "      <td>-0.082361</td>\n",
       "      <td>-0.078803</td>\n",
       "      <td>0.085102</td>\n",
       "      <td>-0.255425</td>\n",
       "      <td>...</td>\n",
       "      <td>-0.225775</td>\n",
       "      <td>-0.638672</td>\n",
       "      <td>0.101288</td>\n",
       "      <td>-0.339846</td>\n",
       "      <td>0.167170</td>\n",
       "      <td>0.125895</td>\n",
       "      <td>-0.008983</td>\n",
       "      <td>0.014724</td>\n",
       "      <td>2.69</td>\n",
       "      <td>1</td>\n",
       "    </tr>\n",
       "    <tr>\n",
       "      <th>2</th>\n",
       "      <td>1</td>\n",
       "      <td>-1.358354</td>\n",
       "      <td>-1.340163</td>\n",
       "      <td>1.773209</td>\n",
       "      <td>0.379780</td>\n",
       "      <td>-0.503198</td>\n",
       "      <td>1.800499</td>\n",
       "      <td>0.791461</td>\n",
       "      <td>0.247676</td>\n",
       "      <td>-1.514654</td>\n",
       "      <td>...</td>\n",
       "      <td>0.247998</td>\n",
       "      <td>0.771679</td>\n",
       "      <td>0.909412</td>\n",
       "      <td>-0.689281</td>\n",
       "      <td>-0.327642</td>\n",
       "      <td>-0.139097</td>\n",
       "      <td>-0.055353</td>\n",
       "      <td>-0.059752</td>\n",
       "      <td>378.66</td>\n",
       "      <td>0</td>\n",
       "    </tr>\n",
       "    <tr>\n",
       "      <th>3</th>\n",
       "      <td>1</td>\n",
       "      <td>-0.966272</td>\n",
       "      <td>-0.185226</td>\n",
       "      <td>1.792993</td>\n",
       "      <td>-0.863291</td>\n",
       "      <td>-0.010309</td>\n",
       "      <td>1.247203</td>\n",
       "      <td>0.237609</td>\n",
       "      <td>0.377436</td>\n",
       "      <td>-1.387024</td>\n",
       "      <td>...</td>\n",
       "      <td>-0.108300</td>\n",
       "      <td>0.005274</td>\n",
       "      <td>-0.190321</td>\n",
       "      <td>-1.175575</td>\n",
       "      <td>0.647376</td>\n",
       "      <td>-0.221929</td>\n",
       "      <td>0.062723</td>\n",
       "      <td>0.061458</td>\n",
       "      <td>123.50</td>\n",
       "      <td>0</td>\n",
       "    </tr>\n",
       "    <tr>\n",
       "      <th>4</th>\n",
       "      <td>2</td>\n",
       "      <td>-1.158233</td>\n",
       "      <td>0.877737</td>\n",
       "      <td>1.548718</td>\n",
       "      <td>0.403034</td>\n",
       "      <td>-0.407193</td>\n",
       "      <td>0.095921</td>\n",
       "      <td>0.592941</td>\n",
       "      <td>-0.270533</td>\n",
       "      <td>0.817739</td>\n",
       "      <td>...</td>\n",
       "      <td>-0.009431</td>\n",
       "      <td>0.798278</td>\n",
       "      <td>-0.137458</td>\n",
       "      <td>0.141267</td>\n",
       "      <td>-0.206010</td>\n",
       "      <td>0.502292</td>\n",
       "      <td>0.219422</td>\n",
       "      <td>0.215153</td>\n",
       "      <td>69.99</td>\n",
       "      <td>0</td>\n",
       "    </tr>\n",
       "  </tbody>\n",
       "</table>\n",
       "<p>5 rows × 31 columns</p>\n",
       "</div>"
      ],
      "text/plain": [
       "   Time        V1        V2        V3        V4        V5        V6        V7  \\\n",
       "0     0 -1.359807 -0.072781  2.536347  1.378155 -0.338321  0.462388  0.239599   \n",
       "1     0  1.191857  0.266151  0.166480  0.448154  0.060018 -0.082361 -0.078803   \n",
       "2     1 -1.358354 -1.340163  1.773209  0.379780 -0.503198  1.800499  0.791461   \n",
       "3     1 -0.966272 -0.185226  1.792993 -0.863291 -0.010309  1.247203  0.237609   \n",
       "4     2 -1.158233  0.877737  1.548718  0.403034 -0.407193  0.095921  0.592941   \n",
       "\n",
       "         V8        V9  ...       V21       V22       V23       V24       V25  \\\n",
       "0  0.098698  0.363787  ... -0.018307  0.277838 -0.110474  0.066928  0.128539   \n",
       "1  0.085102 -0.255425  ... -0.225775 -0.638672  0.101288 -0.339846  0.167170   \n",
       "2  0.247676 -1.514654  ...  0.247998  0.771679  0.909412 -0.689281 -0.327642   \n",
       "3  0.377436 -1.387024  ... -0.108300  0.005274 -0.190321 -1.175575  0.647376   \n",
       "4 -0.270533  0.817739  ... -0.009431  0.798278 -0.137458  0.141267 -0.206010   \n",
       "\n",
       "        V26       V27       V28  Amount  Class  \n",
       "0 -0.189115  0.133558 -0.021053  149.62      0  \n",
       "1  0.125895 -0.008983  0.014724    2.69      1  \n",
       "2 -0.139097 -0.055353 -0.059752  378.66      0  \n",
       "3 -0.221929  0.062723  0.061458  123.50      0  \n",
       "4  0.502292  0.219422  0.215153   69.99      0  \n",
       "\n",
       "[5 rows x 31 columns]"
      ]
     },
     "execution_count": 80,
     "metadata": {},
     "output_type": "execute_result"
    }
   ],
   "source": [
    "data.head()"
   ]
  },
  {
   "cell_type": "code",
   "execution_count": 81,
   "id": "70b5ec40",
   "metadata": {},
   "outputs": [],
   "source": [
    "y=data[\"Class\"]"
   ]
  },
  {
   "cell_type": "code",
   "execution_count": 82,
   "id": "603b0300",
   "metadata": {},
   "outputs": [],
   "source": [
    "x=data[data.columns.drop(\"Class\")]"
   ]
  },
  {
   "cell_type": "code",
   "execution_count": 83,
   "id": "465be2c3",
   "metadata": {},
   "outputs": [
    {
     "data": {
      "text/html": [
       "<div>\n",
       "<style scoped>\n",
       "    .dataframe tbody tr th:only-of-type {\n",
       "        vertical-align: middle;\n",
       "    }\n",
       "\n",
       "    .dataframe tbody tr th {\n",
       "        vertical-align: top;\n",
       "    }\n",
       "\n",
       "    .dataframe thead th {\n",
       "        text-align: right;\n",
       "    }\n",
       "</style>\n",
       "<table border=\"1\" class=\"dataframe\">\n",
       "  <thead>\n",
       "    <tr style=\"text-align: right;\">\n",
       "      <th></th>\n",
       "      <th>Time</th>\n",
       "      <th>V1</th>\n",
       "      <th>V2</th>\n",
       "      <th>V3</th>\n",
       "      <th>V4</th>\n",
       "      <th>V5</th>\n",
       "      <th>V6</th>\n",
       "      <th>V7</th>\n",
       "      <th>V8</th>\n",
       "      <th>V9</th>\n",
       "      <th>...</th>\n",
       "      <th>V20</th>\n",
       "      <th>V21</th>\n",
       "      <th>V22</th>\n",
       "      <th>V23</th>\n",
       "      <th>V24</th>\n",
       "      <th>V25</th>\n",
       "      <th>V26</th>\n",
       "      <th>V27</th>\n",
       "      <th>V28</th>\n",
       "      <th>Amount</th>\n",
       "    </tr>\n",
       "  </thead>\n",
       "  <tbody>\n",
       "    <tr>\n",
       "      <th>0</th>\n",
       "      <td>0</td>\n",
       "      <td>-1.359807</td>\n",
       "      <td>-0.072781</td>\n",
       "      <td>2.536347</td>\n",
       "      <td>1.378155</td>\n",
       "      <td>-0.338321</td>\n",
       "      <td>0.462388</td>\n",
       "      <td>0.239599</td>\n",
       "      <td>0.098698</td>\n",
       "      <td>0.363787</td>\n",
       "      <td>...</td>\n",
       "      <td>0.251412</td>\n",
       "      <td>-0.018307</td>\n",
       "      <td>0.277838</td>\n",
       "      <td>-0.110474</td>\n",
       "      <td>0.066928</td>\n",
       "      <td>0.128539</td>\n",
       "      <td>-0.189115</td>\n",
       "      <td>0.133558</td>\n",
       "      <td>-0.021053</td>\n",
       "      <td>149.62</td>\n",
       "    </tr>\n",
       "    <tr>\n",
       "      <th>1</th>\n",
       "      <td>0</td>\n",
       "      <td>1.191857</td>\n",
       "      <td>0.266151</td>\n",
       "      <td>0.166480</td>\n",
       "      <td>0.448154</td>\n",
       "      <td>0.060018</td>\n",
       "      <td>-0.082361</td>\n",
       "      <td>-0.078803</td>\n",
       "      <td>0.085102</td>\n",
       "      <td>-0.255425</td>\n",
       "      <td>...</td>\n",
       "      <td>-0.069083</td>\n",
       "      <td>-0.225775</td>\n",
       "      <td>-0.638672</td>\n",
       "      <td>0.101288</td>\n",
       "      <td>-0.339846</td>\n",
       "      <td>0.167170</td>\n",
       "      <td>0.125895</td>\n",
       "      <td>-0.008983</td>\n",
       "      <td>0.014724</td>\n",
       "      <td>2.69</td>\n",
       "    </tr>\n",
       "    <tr>\n",
       "      <th>2</th>\n",
       "      <td>1</td>\n",
       "      <td>-1.358354</td>\n",
       "      <td>-1.340163</td>\n",
       "      <td>1.773209</td>\n",
       "      <td>0.379780</td>\n",
       "      <td>-0.503198</td>\n",
       "      <td>1.800499</td>\n",
       "      <td>0.791461</td>\n",
       "      <td>0.247676</td>\n",
       "      <td>-1.514654</td>\n",
       "      <td>...</td>\n",
       "      <td>0.524980</td>\n",
       "      <td>0.247998</td>\n",
       "      <td>0.771679</td>\n",
       "      <td>0.909412</td>\n",
       "      <td>-0.689281</td>\n",
       "      <td>-0.327642</td>\n",
       "      <td>-0.139097</td>\n",
       "      <td>-0.055353</td>\n",
       "      <td>-0.059752</td>\n",
       "      <td>378.66</td>\n",
       "    </tr>\n",
       "    <tr>\n",
       "      <th>3</th>\n",
       "      <td>1</td>\n",
       "      <td>-0.966272</td>\n",
       "      <td>-0.185226</td>\n",
       "      <td>1.792993</td>\n",
       "      <td>-0.863291</td>\n",
       "      <td>-0.010309</td>\n",
       "      <td>1.247203</td>\n",
       "      <td>0.237609</td>\n",
       "      <td>0.377436</td>\n",
       "      <td>-1.387024</td>\n",
       "      <td>...</td>\n",
       "      <td>-0.208038</td>\n",
       "      <td>-0.108300</td>\n",
       "      <td>0.005274</td>\n",
       "      <td>-0.190321</td>\n",
       "      <td>-1.175575</td>\n",
       "      <td>0.647376</td>\n",
       "      <td>-0.221929</td>\n",
       "      <td>0.062723</td>\n",
       "      <td>0.061458</td>\n",
       "      <td>123.50</td>\n",
       "    </tr>\n",
       "    <tr>\n",
       "      <th>4</th>\n",
       "      <td>2</td>\n",
       "      <td>-1.158233</td>\n",
       "      <td>0.877737</td>\n",
       "      <td>1.548718</td>\n",
       "      <td>0.403034</td>\n",
       "      <td>-0.407193</td>\n",
       "      <td>0.095921</td>\n",
       "      <td>0.592941</td>\n",
       "      <td>-0.270533</td>\n",
       "      <td>0.817739</td>\n",
       "      <td>...</td>\n",
       "      <td>0.408542</td>\n",
       "      <td>-0.009431</td>\n",
       "      <td>0.798278</td>\n",
       "      <td>-0.137458</td>\n",
       "      <td>0.141267</td>\n",
       "      <td>-0.206010</td>\n",
       "      <td>0.502292</td>\n",
       "      <td>0.219422</td>\n",
       "      <td>0.215153</td>\n",
       "      <td>69.99</td>\n",
       "    </tr>\n",
       "  </tbody>\n",
       "</table>\n",
       "<p>5 rows × 30 columns</p>\n",
       "</div>"
      ],
      "text/plain": [
       "   Time        V1        V2        V3        V4        V5        V6        V7  \\\n",
       "0     0 -1.359807 -0.072781  2.536347  1.378155 -0.338321  0.462388  0.239599   \n",
       "1     0  1.191857  0.266151  0.166480  0.448154  0.060018 -0.082361 -0.078803   \n",
       "2     1 -1.358354 -1.340163  1.773209  0.379780 -0.503198  1.800499  0.791461   \n",
       "3     1 -0.966272 -0.185226  1.792993 -0.863291 -0.010309  1.247203  0.237609   \n",
       "4     2 -1.158233  0.877737  1.548718  0.403034 -0.407193  0.095921  0.592941   \n",
       "\n",
       "         V8        V9  ...       V20       V21       V22       V23       V24  \\\n",
       "0  0.098698  0.363787  ...  0.251412 -0.018307  0.277838 -0.110474  0.066928   \n",
       "1  0.085102 -0.255425  ... -0.069083 -0.225775 -0.638672  0.101288 -0.339846   \n",
       "2  0.247676 -1.514654  ...  0.524980  0.247998  0.771679  0.909412 -0.689281   \n",
       "3  0.377436 -1.387024  ... -0.208038 -0.108300  0.005274 -0.190321 -1.175575   \n",
       "4 -0.270533  0.817739  ...  0.408542 -0.009431  0.798278 -0.137458  0.141267   \n",
       "\n",
       "        V25       V26       V27       V28  Amount  \n",
       "0  0.128539 -0.189115  0.133558 -0.021053  149.62  \n",
       "1  0.167170  0.125895 -0.008983  0.014724    2.69  \n",
       "2 -0.327642 -0.139097 -0.055353 -0.059752  378.66  \n",
       "3  0.647376 -0.221929  0.062723  0.061458  123.50  \n",
       "4 -0.206010  0.502292  0.219422  0.215153   69.99  \n",
       "\n",
       "[5 rows x 30 columns]"
      ]
     },
     "execution_count": 83,
     "metadata": {},
     "output_type": "execute_result"
    }
   ],
   "source": [
    "x.head()"
   ]
  },
  {
   "cell_type": "code",
   "execution_count": 84,
   "id": "17853c92",
   "metadata": {},
   "outputs": [
    {
     "data": {
      "text/plain": [
       "0    0\n",
       "1    1\n",
       "2    0\n",
       "3    0\n",
       "4    0\n",
       "Name: Class, dtype: int64"
      ]
     },
     "execution_count": 84,
     "metadata": {},
     "output_type": "execute_result"
    }
   ],
   "source": [
    "y.head()"
   ]
  },
  {
   "cell_type": "code",
   "execution_count": 85,
   "id": "a304e89b",
   "metadata": {},
   "outputs": [
    {
     "name": "stdout",
     "output_type": "stream",
     "text": [
      "Defaulting to user installation because normal site-packages is not writeable\n",
      "Requirement already satisfied: imblearn in c:\\users\\91982\\appdata\\roaming\\python\\python311\\site-packages (0.0)\n",
      "Requirement already satisfied: imbalanced-learn in c:\\users\\91982\\appdata\\roaming\\python\\python311\\site-packages (from imblearn) (0.10.1)\n",
      "Requirement already satisfied: numpy>=1.17.3 in c:\\users\\91982\\appdata\\roaming\\python\\python311\\site-packages (from imbalanced-learn->imblearn) (1.24.1)\n",
      "Requirement already satisfied: scipy>=1.3.2 in c:\\users\\91982\\appdata\\roaming\\python\\python311\\site-packages (from imbalanced-learn->imblearn) (1.10.0)\n",
      "Requirement already satisfied: scikit-learn>=1.0.2 in c:\\users\\91982\\appdata\\roaming\\python\\python311\\site-packages (from imbalanced-learn->imblearn) (1.2.0)\n",
      "Requirement already satisfied: joblib>=1.1.1 in c:\\users\\91982\\appdata\\roaming\\python\\python311\\site-packages (from imbalanced-learn->imblearn) (1.2.0)\n",
      "Requirement already satisfied: threadpoolctl>=2.0.0 in c:\\users\\91982\\appdata\\roaming\\python\\python311\\site-packages (from imbalanced-learn->imblearn) (3.1.0)\n"
     ]
    }
   ],
   "source": [
    "!pip install imblearn"
   ]
  },
  {
   "cell_type": "code",
   "execution_count": 86,
   "id": "53b39c1c",
   "metadata": {},
   "outputs": [],
   "source": [
    "from imblearn.under_sampling import TomekLinks\n",
    "from imblearn.over_sampling import RandomOverSampler\n"
   ]
  },
  {
   "cell_type": "code",
   "execution_count": 87,
   "id": "b9d35cb5",
   "metadata": {},
   "outputs": [
    {
     "name": "stdout",
     "output_type": "stream",
     "text": [
      "Original dataset shape 0    763\n",
      "1      9\n",
      "Name: Class, dtype: int64\n",
      "Resample dataset shape 0    763\n",
      "1    763\n",
      "Name: Class, dtype: int64\n"
     ]
    }
   ],
   "source": [
    "tl = RandomOverSampler(random_state=42)\n",
    "# ros = RandomOverSampler()\n",
    "# fit predictor and target variable\n",
    "x_tl, y_tl = tl.fit_resample(x, y)\n",
    "\n",
    "print('Original dataset shape', y.value_counts())\n",
    "print('Resample dataset shape', y_tl.value_counts())"
   ]
  },
  {
   "cell_type": "code",
   "execution_count": 88,
   "id": "7986dd64",
   "metadata": {},
   "outputs": [],
   "source": [
    "#Random Sampling\n",
    "import random"
   ]
  },
  {
   "cell_type": "code",
   "execution_count": 89,
   "id": "afe62e89",
   "metadata": {},
   "outputs": [],
   "source": [
    "x_s1=x_tl.sample(100,random_state=24)\n",
    "y_s1=y_tl.sample(100,random_state=24)\n"
   ]
  },
  {
   "cell_type": "code",
   "execution_count": 90,
   "id": "409581b4",
   "metadata": {},
   "outputs": [],
   "source": [
    "#Systematic Sampling\n",
    "import math"
   ]
  },
  {
   "cell_type": "code",
   "execution_count": 91,
   "id": "bec54454",
   "metadata": {},
   "outputs": [
    {
     "name": "stdout",
     "output_type": "stream",
     "text": [
      "      Time        V1        V2        V3        V4        V5        V6  \\\n",
      "5        2 -0.425966  0.960523  1.141109 -0.168252  0.420987 -0.029728   \n",
      "20      16  0.694885 -1.361819  1.029221  0.834159 -1.191209  1.309109   \n",
      "35      26 -0.535388  0.865268  1.351076  0.147575  0.433680  0.086983   \n",
      "50      35  1.199356  0.129953  0.863585  1.002635 -0.783761 -0.884679   \n",
      "65      44 -0.899992  0.136255  1.883665 -0.208996  1.051441  1.905241   \n",
      "...    ...       ...       ...       ...       ...       ...       ...   \n",
      "1460   539 -1.738582  0.052740  1.187057 -0.656652  0.920623 -0.291788   \n",
      "1475   484 -0.928088  0.398194  1.741131  0.182673  0.966387 -0.901004   \n",
      "1490   406 -2.312227  1.951992 -1.609851  3.997906 -0.522188 -1.426545   \n",
      "1505   118  1.254914  0.350287  0.302488  0.693114 -0.371470 -1.070256   \n",
      "1520   574  1.257719  0.364739  0.306923  0.690638 -0.357792 -1.067481   \n",
      "\n",
      "            V7        V8        V9  ...       V20       V21       V22  \\\n",
      "5     0.476201  0.260314 -0.568671  ...  0.084968 -0.208254 -0.559825   \n",
      "20   -0.878586  0.445290 -0.446196  ... -0.138334 -0.295583 -0.571955   \n",
      "35    0.693039  0.179742 -0.285642  ... -0.283264  0.049526  0.206537   \n",
      "50   -0.040743 -0.208069  0.392478  ... -0.072620 -0.042468  0.198474   \n",
      "65    0.241423  0.647631 -0.053466  ... -0.121726 -0.081500 -0.016926   \n",
      "...        ...       ...       ...  ...       ...       ...       ...   \n",
      "1460  0.269083  0.140631  0.023464  ...  0.002974 -0.179545 -0.192036   \n",
      "1475  0.879016 -0.156590 -0.142117  ... -0.118283  0.066353  0.281378   \n",
      "1490 -2.537387  1.391657 -2.770089  ...  0.126911  0.517232 -0.035049   \n",
      "1505  0.086781 -0.202836  0.035154  ... -0.079756 -0.287592 -0.832682   \n",
      "1520  0.094272 -0.210300  0.014455  ... -0.073779 -0.286856 -0.820658   \n",
      "\n",
      "           V23       V24       V25       V26       V27       V28  Amount  \n",
      "5    -0.026398 -0.371427 -0.232794  0.105915  0.253844  0.081080    3.67  \n",
      "20   -0.050881 -0.304215  0.072001 -0.422234  0.086553  0.063499  231.71  \n",
      "35   -0.187108  0.000753  0.098117 -0.553471 -0.078306  0.025427    1.77  \n",
      "50   -0.033010  1.013290  0.559098  0.401818 -0.005865  0.017936    0.99  \n",
      "65   -0.147706 -1.384620 -0.024352  0.412659 -0.106776 -0.190476   21.55  \n",
      "...        ...       ...       ...       ...       ...       ...     ...  \n",
      "1460 -0.261879 -0.237477 -0.335040  0.240323 -0.345129 -0.383563    1.00  \n",
      "1475 -0.257966  0.385384  0.391117 -0.453853 -0.104448 -0.125765    1.00  \n",
      "1490 -0.465211  0.320198  0.044519  0.177840  0.261145 -0.143276    0.00  \n",
      "1505  0.128083  0.339427  0.215944  0.094704 -0.023354  0.030892    2.69  \n",
      "1520  0.127663  0.343128  0.221120  0.094391 -0.022189  0.030944    1.29  \n",
      "\n",
      "[102 rows x 30 columns] 5       0\n",
      "20      0\n",
      "35      0\n",
      "50      0\n",
      "65      0\n",
      "       ..\n",
      "1460    1\n",
      "1475    1\n",
      "1490    1\n",
      "1505    1\n",
      "1520    1\n",
      "Name: Class, Length: 102, dtype: int64\n"
     ]
    }
   ],
   "source": [
    "# Define the sampling interval\n",
    "interval = math.floor(x_tl.shape[0]/100)\n",
    "# Determine the starting point\n",
    "start = 5\n",
    "# Perform systematic sampling\n",
    "x_s2 = x_tl.iloc[start::interval]\n",
    "y_s2 = y_tl.iloc[start::interval]\n",
    "# View the sampled data\n",
    "print(x_s2,y_s2)"
   ]
  },
  {
   "cell_type": "code",
   "execution_count": 92,
   "id": "5f609a25",
   "metadata": {},
   "outputs": [],
   "source": [
    "#Stratified Sampling\n"
   ]
  },
  {
   "cell_type": "code",
   "execution_count": 93,
   "id": "4633ffbe",
   "metadata": {},
   "outputs": [],
   "source": [
    "x_s3_0=x_tl[y_tl.iloc[:]==0]\n",
    "x_s3_1=x_tl[y_tl.iloc[:]==1]\n",
    "y_s3_0=y_tl[y_tl.iloc[:]==0]\n",
    "y_s3_1=y_tl[y_tl.iloc[:]==1]"
   ]
  },
  {
   "cell_type": "code",
   "execution_count": 94,
   "id": "1766b681",
   "metadata": {},
   "outputs": [
    {
     "name": "stdout",
     "output_type": "stream",
     "text": [
      "     Time        V1        V2        V3        V4        V5        V6  \\\n",
      "0       0 -1.359807 -0.072781  2.536347  1.378155 -0.338321  0.462388   \n",
      "2       1 -1.358354 -1.340163  1.773209  0.379780 -0.503198  1.800499   \n",
      "3       1 -0.966272 -0.185226  1.792993 -0.863291 -0.010309  1.247203   \n",
      "4       2 -1.158233  0.877737  1.548718  0.403034 -0.407193  0.095921   \n",
      "5       2 -0.425966  0.960523  1.141109 -0.168252  0.420987 -0.029728   \n",
      "..    ...       ...       ...       ...       ...       ...       ...   \n",
      "767   575 -0.572263  0.731748  1.541254  0.150506  1.108974  0.372152   \n",
      "768   579 -1.296845 -0.511605  2.404726 -0.310762 -0.319551 -0.542842   \n",
      "769   579  1.214170  0.210481  0.484651  0.479768 -0.261955 -0.527039   \n",
      "770   580  1.267030 -0.071114  0.037680  0.512683  0.242392  0.705212   \n",
      "771   581  1.153758  0.132273  0.382969  1.405063 -0.224287 -0.197295   \n",
      "\n",
      "           V7        V8        V9  ...       V20       V21       V22  \\\n",
      "0    0.239599  0.098698  0.363787  ...  0.251412 -0.018307  0.277838   \n",
      "2    0.791461  0.247676 -1.514654  ...  0.524980  0.247998  0.771679   \n",
      "3    0.237609  0.377436 -1.387024  ... -0.208038 -0.108300  0.005274   \n",
      "4    0.592941 -0.270533  0.817739  ...  0.408542 -0.009431  0.798278   \n",
      "5    0.476201  0.260314 -0.568671  ...  0.084968 -0.208254 -0.559825   \n",
      "..        ...       ...       ...  ...       ...       ...       ...   \n",
      "767  1.084879 -0.146329 -0.274447  ...  0.056544 -0.143508 -0.107582   \n",
      "768 -0.173310  0.260423 -1.202688  ... -0.349668 -0.071270 -0.161175   \n",
      "769  0.021782 -0.106888 -0.037631  ... -0.071540 -0.224292 -0.594609   \n",
      "770 -0.226582  0.109483  0.657565  ... -0.066990 -0.164468 -0.177225   \n",
      "771  0.020653  0.029260  0.412254  ... -0.230877 -0.107809 -0.125231   \n",
      "\n",
      "          V23       V24       V25       V26       V27       V28  Amount  \n",
      "0   -0.110474  0.066928  0.128539 -0.189115  0.133558 -0.021053  149.62  \n",
      "2    0.909412 -0.689281 -0.327642 -0.139097 -0.055353 -0.059752  378.66  \n",
      "3   -0.190321 -1.175575  0.647376 -0.221929  0.062723  0.061458  123.50  \n",
      "4   -0.137458  0.141267 -0.206010  0.502292  0.219422  0.215153   69.99  \n",
      "5   -0.026398 -0.371427 -0.232794  0.105915  0.253844  0.081080    3.67  \n",
      "..        ...       ...       ...       ...       ...       ...     ...  \n",
      "767 -0.418263 -0.731029  0.877525 -0.364150 -0.177509 -0.256545   26.72  \n",
      "768  0.088496  0.285390  0.281069 -0.370130  0.043410  0.092318   80.00  \n",
      "769  0.159877  0.091873  0.140964  0.227406 -0.017389  0.016030    5.98  \n",
      "770 -0.222918 -1.245505  0.678360  0.525059  0.002920 -0.003333   12.36  \n",
      "771 -0.057041  0.073082  0.633977 -0.310685  0.033590  0.015250   13.79  \n",
      "\n",
      "[763 rows x 30 columns] 0      0\n",
      "2      0\n",
      "3      0\n",
      "4      0\n",
      "5      0\n",
      "      ..\n",
      "767    0\n",
      "768    0\n",
      "769    0\n",
      "770    0\n",
      "771    0\n",
      "Name: Class, Length: 763, dtype: int64\n"
     ]
    }
   ],
   "source": [
    "print(x_s3_0,y_s3_0)"
   ]
  },
  {
   "cell_type": "code",
   "execution_count": 18,
   "id": "d67cd900",
   "metadata": {
    "collapsed": true
   },
   "outputs": [
    {
     "name": "stderr",
     "output_type": "stream",
     "text": [
      "C:\\Users\\91982\\AppData\\Local\\Temp\\ipykernel_22504\\2747500316.py:2: FutureWarning: The frame.append method is deprecated and will be removed from pandas in a future version. Use pandas.concat instead.\n",
      "  x_s3=x_s3.append(x_s3_1.sample(50,random_state=24))\n",
      "C:\\Users\\91982\\AppData\\Local\\Temp\\ipykernel_22504\\2747500316.py:4: FutureWarning: The series.append method is deprecated and will be removed from pandas in a future version. Use pandas.concat instead.\n",
      "  y_s3=y_s3.append(y_s3_1.sample(50,random_state=24))\n"
     ]
    }
   ],
   "source": [
    "x_s3=x_s3_0.sample(50,random_state=24)\n",
    "x_s3=x_s3.append(x_s3_1.sample(50,random_state=24))\n",
    "y_s3=y_s3_0.sample(50,random_state=24)\n",
    "y_s3=y_s3.append(y_s3_1.sample(50,random_state=24))"
   ]
  },
  {
   "cell_type": "code",
   "execution_count": 19,
   "id": "b0118e6b",
   "metadata": {},
   "outputs": [
    {
     "data": {
      "text/plain": [
       "(100,)"
      ]
     },
     "execution_count": 19,
     "metadata": {},
     "output_type": "execute_result"
    }
   ],
   "source": [
    "y_s3.shape"
   ]
  },
  {
   "cell_type": "code",
   "execution_count": 20,
   "id": "3e84501d",
   "metadata": {},
   "outputs": [],
   "source": [
    "#Clustering "
   ]
  },
  {
   "cell_type": "code",
   "execution_count": 40,
   "id": "5f100b4d",
   "metadata": {
    "scrolled": true
   },
   "outputs": [
    {
     "name": "stdout",
     "output_type": "stream",
     "text": [
      "   Time        V1        V2        V3        V4        V5        V6        V7  \\\n",
      "0     0 -1.359807 -0.072781  2.536347  1.378155 -0.338321  0.462388  0.239599   \n",
      "1     0  1.191857  0.266151  0.166480  0.448154  0.060018 -0.082361 -0.078803   \n",
      "2     1 -1.358354 -1.340163  1.773209  0.379780 -0.503198  1.800499  0.791461   \n",
      "3     1 -0.966272 -0.185226  1.792993 -0.863291 -0.010309  1.247203  0.237609   \n",
      "4     2 -1.158233  0.877737  1.548718  0.403034 -0.407193  0.095921  0.592941   \n",
      "\n",
      "         V8        V9  ...       V22       V23       V24       V25       V26  \\\n",
      "0  0.098698  0.363787  ...  0.277838 -0.110474  0.066928  0.128539 -0.189115   \n",
      "1  0.085102 -0.255425  ... -0.638672  0.101288 -0.339846  0.167170  0.125895   \n",
      "2  0.247676 -1.514654  ...  0.771679  0.909412 -0.689281 -0.327642 -0.139097   \n",
      "3  0.377436 -1.387024  ...  0.005274 -0.190321 -1.175575  0.647376 -0.221929   \n",
      "4 -0.270533  0.817739  ...  0.798278 -0.137458  0.141267 -0.206010  0.502292   \n",
      "\n",
      "        V27       V28  Amount  Class  Cluster  \n",
      "0  0.133558 -0.021053  149.62      0        8  \n",
      "1 -0.008983  0.014724    2.69      1       13  \n",
      "2 -0.055353 -0.059752  378.66      0        4  \n",
      "3  0.062723  0.061458  123.50      0       13  \n",
      "4  0.219422  0.215153   69.99      0       13  \n",
      "\n",
      "[5 rows x 32 columns]\n"
     ]
    },
    {
     "name": "stderr",
     "output_type": "stream",
     "text": [
      "C:\\Users\\91982\\AppData\\Roaming\\Python\\Python311\\site-packages\\sklearn\\cluster\\_kmeans.py:870: FutureWarning: The default value of `n_init` will change from 10 to 'auto' in 1.4. Set the value of `n_init` explicitly to suppress the warning\n",
      "  warnings.warn(\n"
     ]
    }
   ],
   "source": [
    " from sklearn.cluster import KMeans\n",
    "import numpy as np\n",
    "\n",
    "# # generate some data for clustering\n",
    "\n",
    "\n",
    "# set the number of clusters\n",
    "n_clusters = 14\n",
    "\n",
    "# create KMeans object\n",
    "kmeans = KMeans(n_clusters=n_clusters,random_state=42)\n",
    "\n",
    "# fit the model to the data\n",
    "kmeans.fit(data)\n",
    "\n",
    "\n",
    "# # get the cluster labels for each data point\n",
    "# labels = kmeans.labels_\n",
    "\n",
    "# # get the coordinates of the cluster centers\n",
    "# centers = kmeans.cluster_centers_\n",
    "\n",
    "# print(labels)\n",
    "# print(centers)\n",
    "\n",
    "from sklearn.cluster import KMeans\n",
    "import numpy as np\n",
    "\n",
    "\n",
    "\n",
    "# # set the number of clusters\n",
    "# n_clusters = 14\n",
    "\n",
    "# # create KMeans object\n",
    "# kmeans = KMeans(n_clusters=n_clusters, random_state=42)\n",
    "\n",
    "# # fit the model to the data\n",
    "# kmeans.fit(data)\n",
    "\n",
    "# get the cluster labels for each data point\n",
    "labels = kmeans.labels_\n",
    "\n",
    "# append the cluster labels to the original data\n",
    "cluster_data = pd.DataFrame({'Cluster': labels})\n",
    "\n",
    "# concatenate the original dataframe with the new dataframe containing the cluster labels\n",
    "data_with_clusters = pd.concat([data, cluster_data], axis=1)\n",
    "\n",
    "# print the first few rows of the data with the cluster labels\n",
    "print(data_with_clusters.head())\n",
    "\n"
   ]
  },
  {
   "cell_type": "code",
   "execution_count": 41,
   "id": "a26bd40d",
   "metadata": {},
   "outputs": [
    {
     "data": {
      "text/html": [
       "<div>\n",
       "<style scoped>\n",
       "    .dataframe tbody tr th:only-of-type {\n",
       "        vertical-align: middle;\n",
       "    }\n",
       "\n",
       "    .dataframe tbody tr th {\n",
       "        vertical-align: top;\n",
       "    }\n",
       "\n",
       "    .dataframe thead th {\n",
       "        text-align: right;\n",
       "    }\n",
       "</style>\n",
       "<table border=\"1\" class=\"dataframe\">\n",
       "  <thead>\n",
       "    <tr style=\"text-align: right;\">\n",
       "      <th></th>\n",
       "      <th>Time</th>\n",
       "      <th>V1</th>\n",
       "      <th>V2</th>\n",
       "      <th>V3</th>\n",
       "      <th>V4</th>\n",
       "      <th>V5</th>\n",
       "      <th>V6</th>\n",
       "      <th>V7</th>\n",
       "      <th>V8</th>\n",
       "      <th>V9</th>\n",
       "      <th>...</th>\n",
       "      <th>V22</th>\n",
       "      <th>V23</th>\n",
       "      <th>V24</th>\n",
       "      <th>V25</th>\n",
       "      <th>V26</th>\n",
       "      <th>V27</th>\n",
       "      <th>V28</th>\n",
       "      <th>Amount</th>\n",
       "      <th>Class</th>\n",
       "      <th>Cluster</th>\n",
       "    </tr>\n",
       "  </thead>\n",
       "  <tbody>\n",
       "    <tr>\n",
       "      <th>0</th>\n",
       "      <td>0</td>\n",
       "      <td>-1.359807</td>\n",
       "      <td>-0.072781</td>\n",
       "      <td>2.536347</td>\n",
       "      <td>1.378155</td>\n",
       "      <td>-0.338321</td>\n",
       "      <td>0.462388</td>\n",
       "      <td>0.239599</td>\n",
       "      <td>0.098698</td>\n",
       "      <td>0.363787</td>\n",
       "      <td>...</td>\n",
       "      <td>0.277838</td>\n",
       "      <td>-0.110474</td>\n",
       "      <td>0.066928</td>\n",
       "      <td>0.128539</td>\n",
       "      <td>-0.189115</td>\n",
       "      <td>0.133558</td>\n",
       "      <td>-0.021053</td>\n",
       "      <td>149.62</td>\n",
       "      <td>0</td>\n",
       "      <td>8</td>\n",
       "    </tr>\n",
       "    <tr>\n",
       "      <th>1</th>\n",
       "      <td>0</td>\n",
       "      <td>1.191857</td>\n",
       "      <td>0.266151</td>\n",
       "      <td>0.166480</td>\n",
       "      <td>0.448154</td>\n",
       "      <td>0.060018</td>\n",
       "      <td>-0.082361</td>\n",
       "      <td>-0.078803</td>\n",
       "      <td>0.085102</td>\n",
       "      <td>-0.255425</td>\n",
       "      <td>...</td>\n",
       "      <td>-0.638672</td>\n",
       "      <td>0.101288</td>\n",
       "      <td>-0.339846</td>\n",
       "      <td>0.167170</td>\n",
       "      <td>0.125895</td>\n",
       "      <td>-0.008983</td>\n",
       "      <td>0.014724</td>\n",
       "      <td>2.69</td>\n",
       "      <td>1</td>\n",
       "      <td>13</td>\n",
       "    </tr>\n",
       "    <tr>\n",
       "      <th>2</th>\n",
       "      <td>1</td>\n",
       "      <td>-1.358354</td>\n",
       "      <td>-1.340163</td>\n",
       "      <td>1.773209</td>\n",
       "      <td>0.379780</td>\n",
       "      <td>-0.503198</td>\n",
       "      <td>1.800499</td>\n",
       "      <td>0.791461</td>\n",
       "      <td>0.247676</td>\n",
       "      <td>-1.514654</td>\n",
       "      <td>...</td>\n",
       "      <td>0.771679</td>\n",
       "      <td>0.909412</td>\n",
       "      <td>-0.689281</td>\n",
       "      <td>-0.327642</td>\n",
       "      <td>-0.139097</td>\n",
       "      <td>-0.055353</td>\n",
       "      <td>-0.059752</td>\n",
       "      <td>378.66</td>\n",
       "      <td>0</td>\n",
       "      <td>4</td>\n",
       "    </tr>\n",
       "    <tr>\n",
       "      <th>3</th>\n",
       "      <td>1</td>\n",
       "      <td>-0.966272</td>\n",
       "      <td>-0.185226</td>\n",
       "      <td>1.792993</td>\n",
       "      <td>-0.863291</td>\n",
       "      <td>-0.010309</td>\n",
       "      <td>1.247203</td>\n",
       "      <td>0.237609</td>\n",
       "      <td>0.377436</td>\n",
       "      <td>-1.387024</td>\n",
       "      <td>...</td>\n",
       "      <td>0.005274</td>\n",
       "      <td>-0.190321</td>\n",
       "      <td>-1.175575</td>\n",
       "      <td>0.647376</td>\n",
       "      <td>-0.221929</td>\n",
       "      <td>0.062723</td>\n",
       "      <td>0.061458</td>\n",
       "      <td>123.50</td>\n",
       "      <td>0</td>\n",
       "      <td>13</td>\n",
       "    </tr>\n",
       "    <tr>\n",
       "      <th>4</th>\n",
       "      <td>2</td>\n",
       "      <td>-1.158233</td>\n",
       "      <td>0.877737</td>\n",
       "      <td>1.548718</td>\n",
       "      <td>0.403034</td>\n",
       "      <td>-0.407193</td>\n",
       "      <td>0.095921</td>\n",
       "      <td>0.592941</td>\n",
       "      <td>-0.270533</td>\n",
       "      <td>0.817739</td>\n",
       "      <td>...</td>\n",
       "      <td>0.798278</td>\n",
       "      <td>-0.137458</td>\n",
       "      <td>0.141267</td>\n",
       "      <td>-0.206010</td>\n",
       "      <td>0.502292</td>\n",
       "      <td>0.219422</td>\n",
       "      <td>0.215153</td>\n",
       "      <td>69.99</td>\n",
       "      <td>0</td>\n",
       "      <td>13</td>\n",
       "    </tr>\n",
       "    <tr>\n",
       "      <th>...</th>\n",
       "      <td>...</td>\n",
       "      <td>...</td>\n",
       "      <td>...</td>\n",
       "      <td>...</td>\n",
       "      <td>...</td>\n",
       "      <td>...</td>\n",
       "      <td>...</td>\n",
       "      <td>...</td>\n",
       "      <td>...</td>\n",
       "      <td>...</td>\n",
       "      <td>...</td>\n",
       "      <td>...</td>\n",
       "      <td>...</td>\n",
       "      <td>...</td>\n",
       "      <td>...</td>\n",
       "      <td>...</td>\n",
       "      <td>...</td>\n",
       "      <td>...</td>\n",
       "      <td>...</td>\n",
       "      <td>...</td>\n",
       "      <td>...</td>\n",
       "    </tr>\n",
       "    <tr>\n",
       "      <th>767</th>\n",
       "      <td>575</td>\n",
       "      <td>-0.572263</td>\n",
       "      <td>0.731748</td>\n",
       "      <td>1.541254</td>\n",
       "      <td>0.150506</td>\n",
       "      <td>1.108974</td>\n",
       "      <td>0.372152</td>\n",
       "      <td>1.084879</td>\n",
       "      <td>-0.146329</td>\n",
       "      <td>-0.274447</td>\n",
       "      <td>...</td>\n",
       "      <td>-0.107582</td>\n",
       "      <td>-0.418263</td>\n",
       "      <td>-0.731029</td>\n",
       "      <td>0.877525</td>\n",
       "      <td>-0.364150</td>\n",
       "      <td>-0.177509</td>\n",
       "      <td>-0.256545</td>\n",
       "      <td>26.72</td>\n",
       "      <td>0</td>\n",
       "      <td>1</td>\n",
       "    </tr>\n",
       "    <tr>\n",
       "      <th>768</th>\n",
       "      <td>579</td>\n",
       "      <td>-1.296845</td>\n",
       "      <td>-0.511605</td>\n",
       "      <td>2.404726</td>\n",
       "      <td>-0.310762</td>\n",
       "      <td>-0.319551</td>\n",
       "      <td>-0.542842</td>\n",
       "      <td>-0.173310</td>\n",
       "      <td>0.260423</td>\n",
       "      <td>-1.202688</td>\n",
       "      <td>...</td>\n",
       "      <td>-0.161175</td>\n",
       "      <td>0.088496</td>\n",
       "      <td>0.285390</td>\n",
       "      <td>0.281069</td>\n",
       "      <td>-0.370130</td>\n",
       "      <td>0.043410</td>\n",
       "      <td>0.092318</td>\n",
       "      <td>80.00</td>\n",
       "      <td>0</td>\n",
       "      <td>1</td>\n",
       "    </tr>\n",
       "    <tr>\n",
       "      <th>769</th>\n",
       "      <td>579</td>\n",
       "      <td>1.214170</td>\n",
       "      <td>0.210481</td>\n",
       "      <td>0.484651</td>\n",
       "      <td>0.479768</td>\n",
       "      <td>-0.261955</td>\n",
       "      <td>-0.527039</td>\n",
       "      <td>0.021782</td>\n",
       "      <td>-0.106888</td>\n",
       "      <td>-0.037631</td>\n",
       "      <td>...</td>\n",
       "      <td>-0.594609</td>\n",
       "      <td>0.159877</td>\n",
       "      <td>0.091873</td>\n",
       "      <td>0.140964</td>\n",
       "      <td>0.227406</td>\n",
       "      <td>-0.017389</td>\n",
       "      <td>0.016030</td>\n",
       "      <td>5.98</td>\n",
       "      <td>0</td>\n",
       "      <td>1</td>\n",
       "    </tr>\n",
       "    <tr>\n",
       "      <th>770</th>\n",
       "      <td>580</td>\n",
       "      <td>1.267030</td>\n",
       "      <td>-0.071114</td>\n",
       "      <td>0.037680</td>\n",
       "      <td>0.512683</td>\n",
       "      <td>0.242392</td>\n",
       "      <td>0.705212</td>\n",
       "      <td>-0.226582</td>\n",
       "      <td>0.109483</td>\n",
       "      <td>0.657565</td>\n",
       "      <td>...</td>\n",
       "      <td>-0.177225</td>\n",
       "      <td>-0.222918</td>\n",
       "      <td>-1.245505</td>\n",
       "      <td>0.678360</td>\n",
       "      <td>0.525059</td>\n",
       "      <td>0.002920</td>\n",
       "      <td>-0.003333</td>\n",
       "      <td>12.36</td>\n",
       "      <td>0</td>\n",
       "      <td>1</td>\n",
       "    </tr>\n",
       "    <tr>\n",
       "      <th>771</th>\n",
       "      <td>581</td>\n",
       "      <td>1.153758</td>\n",
       "      <td>0.132273</td>\n",
       "      <td>0.382969</td>\n",
       "      <td>1.405063</td>\n",
       "      <td>-0.224287</td>\n",
       "      <td>-0.197295</td>\n",
       "      <td>0.020653</td>\n",
       "      <td>0.029260</td>\n",
       "      <td>0.412254</td>\n",
       "      <td>...</td>\n",
       "      <td>-0.125231</td>\n",
       "      <td>-0.057041</td>\n",
       "      <td>0.073082</td>\n",
       "      <td>0.633977</td>\n",
       "      <td>-0.310685</td>\n",
       "      <td>0.033590</td>\n",
       "      <td>0.015250</td>\n",
       "      <td>13.79</td>\n",
       "      <td>0</td>\n",
       "      <td>1</td>\n",
       "    </tr>\n",
       "  </tbody>\n",
       "</table>\n",
       "<p>772 rows × 32 columns</p>\n",
       "</div>"
      ],
      "text/plain": [
       "     Time        V1        V2        V3        V4        V5        V6  \\\n",
       "0       0 -1.359807 -0.072781  2.536347  1.378155 -0.338321  0.462388   \n",
       "1       0  1.191857  0.266151  0.166480  0.448154  0.060018 -0.082361   \n",
       "2       1 -1.358354 -1.340163  1.773209  0.379780 -0.503198  1.800499   \n",
       "3       1 -0.966272 -0.185226  1.792993 -0.863291 -0.010309  1.247203   \n",
       "4       2 -1.158233  0.877737  1.548718  0.403034 -0.407193  0.095921   \n",
       "..    ...       ...       ...       ...       ...       ...       ...   \n",
       "767   575 -0.572263  0.731748  1.541254  0.150506  1.108974  0.372152   \n",
       "768   579 -1.296845 -0.511605  2.404726 -0.310762 -0.319551 -0.542842   \n",
       "769   579  1.214170  0.210481  0.484651  0.479768 -0.261955 -0.527039   \n",
       "770   580  1.267030 -0.071114  0.037680  0.512683  0.242392  0.705212   \n",
       "771   581  1.153758  0.132273  0.382969  1.405063 -0.224287 -0.197295   \n",
       "\n",
       "           V7        V8        V9  ...       V22       V23       V24  \\\n",
       "0    0.239599  0.098698  0.363787  ...  0.277838 -0.110474  0.066928   \n",
       "1   -0.078803  0.085102 -0.255425  ... -0.638672  0.101288 -0.339846   \n",
       "2    0.791461  0.247676 -1.514654  ...  0.771679  0.909412 -0.689281   \n",
       "3    0.237609  0.377436 -1.387024  ...  0.005274 -0.190321 -1.175575   \n",
       "4    0.592941 -0.270533  0.817739  ...  0.798278 -0.137458  0.141267   \n",
       "..        ...       ...       ...  ...       ...       ...       ...   \n",
       "767  1.084879 -0.146329 -0.274447  ... -0.107582 -0.418263 -0.731029   \n",
       "768 -0.173310  0.260423 -1.202688  ... -0.161175  0.088496  0.285390   \n",
       "769  0.021782 -0.106888 -0.037631  ... -0.594609  0.159877  0.091873   \n",
       "770 -0.226582  0.109483  0.657565  ... -0.177225 -0.222918 -1.245505   \n",
       "771  0.020653  0.029260  0.412254  ... -0.125231 -0.057041  0.073082   \n",
       "\n",
       "          V25       V26       V27       V28  Amount  Class  Cluster  \n",
       "0    0.128539 -0.189115  0.133558 -0.021053  149.62      0        8  \n",
       "1    0.167170  0.125895 -0.008983  0.014724    2.69      1       13  \n",
       "2   -0.327642 -0.139097 -0.055353 -0.059752  378.66      0        4  \n",
       "3    0.647376 -0.221929  0.062723  0.061458  123.50      0       13  \n",
       "4   -0.206010  0.502292  0.219422  0.215153   69.99      0       13  \n",
       "..        ...       ...       ...       ...     ...    ...      ...  \n",
       "767  0.877525 -0.364150 -0.177509 -0.256545   26.72      0        1  \n",
       "768  0.281069 -0.370130  0.043410  0.092318   80.00      0        1  \n",
       "769  0.140964  0.227406 -0.017389  0.016030    5.98      0        1  \n",
       "770  0.678360  0.525059  0.002920 -0.003333   12.36      0        1  \n",
       "771  0.633977 -0.310685  0.033590  0.015250   13.79      0        1  \n",
       "\n",
       "[772 rows x 32 columns]"
      ]
     },
     "execution_count": 41,
     "metadata": {},
     "output_type": "execute_result"
    }
   ],
   "source": [
    "data_with_clusters"
   ]
  },
  {
   "cell_type": "code",
   "execution_count": 46,
   "id": "eaf35f16",
   "metadata": {},
   "outputs": [],
   "source": [
    "#loop through the cluster labels and group the data points by their corresponding cluster label\n",
    "clusters = {}\n",
    "for i, label in enumerate(labels):\n",
    "    if label not in clusters:\n",
    "        clusters[label] = []\n",
    "\n",
    "\n"
   ]
  },
  {
   "cell_type": "code",
   "execution_count": 47,
   "id": "1022490d",
   "metadata": {},
   "outputs": [
    {
     "data": {
      "text/plain": [
       "dict_keys([8, 13, 4, 2, 0, 5, 7, 11, 3, 6, 12, 9, 10, 1])"
      ]
     },
     "execution_count": 47,
     "metadata": {},
     "output_type": "execute_result"
    }
   ],
   "source": [
    "clusters.keys()"
   ]
  },
  {
   "cell_type": "code",
   "execution_count": 48,
   "id": "a011c18e",
   "metadata": {},
   "outputs": [],
   "source": [
    "p=list(clusters.keys())"
   ]
  },
  {
   "cell_type": "code",
   "execution_count": 49,
   "id": "7fa226a2",
   "metadata": {},
   "outputs": [
    {
     "data": {
      "text/plain": [
       "[8, 13, 4, 2, 0, 5, 7, 11, 3, 6, 12, 9, 10, 1]"
      ]
     },
     "execution_count": 49,
     "metadata": {},
     "output_type": "execute_result"
    }
   ],
   "source": [
    "p"
   ]
  },
  {
   "cell_type": "code",
   "execution_count": 50,
   "id": "0bad1bd7",
   "metadata": {},
   "outputs": [],
   "source": [
    "import pandas as pd\n",
    "\n",
    "# create a dictionary of dataframes, one for each cluster\n",
    "cluster_dfs = {}\n",
    "for i, data_with_clusters in data_with_clusters.groupby('Cluster'):\n",
    "    cluster_dfs[i] = pd.DataFrame(data_with_clusters)\n",
    "\n",
    "# access the dataframe for cluster 0\n",
    "# cluster_0_df = cluster_dfs[0]\n",
    "\n",
    "    "
   ]
  },
  {
   "cell_type": "code",
   "execution_count": 51,
   "id": "608e2138",
   "metadata": {},
   "outputs": [],
   "source": [
    "# for i in range(14):\n",
    "#     print(cluster_dfs[i])\n"
   ]
  },
  {
   "cell_type": "code",
   "execution_count": 52,
   "id": "bbbb0cd1",
   "metadata": {},
   "outputs": [],
   "source": [
    "# create an empty list to store the selected rows\n",
    "selected_rows = []\n",
    "\n",
    "# iterate over the keys of the dictionary\n",
    "for key in cluster_dfs.keys():\n",
    "    # use the sample() method to select 10 random rows from the dataframe\n",
    "    rows = cluster_dfs[key].sample(n=10, random_state=42,replace=True)\n",
    "    # append the selected rows to the list\n",
    "    selected_rows.append(rows)\n",
    "\n",
    "# concatenate the selected rows into a single dataframe\n",
    "selected_df = pd.concat(selected_rows)\n"
   ]
  },
  {
   "cell_type": "code",
   "execution_count": 53,
   "id": "d01aafb6",
   "metadata": {},
   "outputs": [
    {
     "data": {
      "text/html": [
       "<div>\n",
       "<style scoped>\n",
       "    .dataframe tbody tr th:only-of-type {\n",
       "        vertical-align: middle;\n",
       "    }\n",
       "\n",
       "    .dataframe tbody tr th {\n",
       "        vertical-align: top;\n",
       "    }\n",
       "\n",
       "    .dataframe thead th {\n",
       "        text-align: right;\n",
       "    }\n",
       "</style>\n",
       "<table border=\"1\" class=\"dataframe\">\n",
       "  <thead>\n",
       "    <tr style=\"text-align: right;\">\n",
       "      <th></th>\n",
       "      <th>Time</th>\n",
       "      <th>V1</th>\n",
       "      <th>V2</th>\n",
       "      <th>V3</th>\n",
       "      <th>V4</th>\n",
       "      <th>V5</th>\n",
       "      <th>V6</th>\n",
       "      <th>V7</th>\n",
       "      <th>V8</th>\n",
       "      <th>V9</th>\n",
       "      <th>...</th>\n",
       "      <th>V22</th>\n",
       "      <th>V23</th>\n",
       "      <th>V24</th>\n",
       "      <th>V25</th>\n",
       "      <th>V26</th>\n",
       "      <th>V27</th>\n",
       "      <th>V28</th>\n",
       "      <th>Amount</th>\n",
       "      <th>Class</th>\n",
       "      <th>Cluster</th>\n",
       "    </tr>\n",
       "  </thead>\n",
       "  <tbody>\n",
       "    <tr>\n",
       "      <th>215</th>\n",
       "      <td>142</td>\n",
       "      <td>1.211406</td>\n",
       "      <td>0.007850</td>\n",
       "      <td>0.950798</td>\n",
       "      <td>1.137646</td>\n",
       "      <td>-0.495189</td>\n",
       "      <td>0.301371</td>\n",
       "      <td>-0.518350</td>\n",
       "      <td>0.095426</td>\n",
       "      <td>0.817592</td>\n",
       "      <td>...</td>\n",
       "      <td>-0.057153</td>\n",
       "      <td>-0.118933</td>\n",
       "      <td>-0.421241</td>\n",
       "      <td>0.556146</td>\n",
       "      <td>-0.360164</td>\n",
       "      <td>0.076930</td>\n",
       "      <td>0.031800</td>\n",
       "      <td>9.99</td>\n",
       "      <td>0</td>\n",
       "      <td>0</td>\n",
       "    </tr>\n",
       "    <tr>\n",
       "      <th>166</th>\n",
       "      <td>105</td>\n",
       "      <td>1.175094</td>\n",
       "      <td>0.408263</td>\n",
       "      <td>0.552145</td>\n",
       "      <td>1.255068</td>\n",
       "      <td>-0.196662</td>\n",
       "      <td>-0.565605</td>\n",
       "      <td>0.133973</td>\n",
       "      <td>-0.146202</td>\n",
       "      <td>-0.214155</td>\n",
       "      <td>...</td>\n",
       "      <td>0.523640</td>\n",
       "      <td>-0.050125</td>\n",
       "      <td>0.448133</td>\n",
       "      <td>0.597867</td>\n",
       "      <td>-0.275067</td>\n",
       "      <td>0.043308</td>\n",
       "      <td>0.023924</td>\n",
       "      <td>1.00</td>\n",
       "      <td>0</td>\n",
       "      <td>0</td>\n",
       "    </tr>\n",
       "    <tr>\n",
       "      <th>241</th>\n",
       "      <td>162</td>\n",
       "      <td>1.039964</td>\n",
       "      <td>-0.534355</td>\n",
       "      <td>1.865190</td>\n",
       "      <td>1.145122</td>\n",
       "      <td>-1.488133</td>\n",
       "      <td>0.589641</td>\n",
       "      <td>-1.119900</td>\n",
       "      <td>0.382781</td>\n",
       "      <td>1.419160</td>\n",
       "      <td>...</td>\n",
       "      <td>0.430843</td>\n",
       "      <td>-0.071344</td>\n",
       "      <td>0.638434</td>\n",
       "      <td>0.366778</td>\n",
       "      <td>0.451211</td>\n",
       "      <td>0.053840</td>\n",
       "      <td>0.023451</td>\n",
       "      <td>22.00</td>\n",
       "      <td>0</td>\n",
       "      <td>0</td>\n",
       "    </tr>\n",
       "    <tr>\n",
       "      <th>225</th>\n",
       "      <td>147</td>\n",
       "      <td>-2.687978</td>\n",
       "      <td>4.390230</td>\n",
       "      <td>-2.360483</td>\n",
       "      <td>0.360829</td>\n",
       "      <td>1.310192</td>\n",
       "      <td>-1.645253</td>\n",
       "      <td>2.327776</td>\n",
       "      <td>-1.727825</td>\n",
       "      <td>4.324752</td>\n",
       "      <td>...</td>\n",
       "      <td>-0.156951</td>\n",
       "      <td>0.079854</td>\n",
       "      <td>-0.012598</td>\n",
       "      <td>0.207194</td>\n",
       "      <td>-0.536578</td>\n",
       "      <td>0.950393</td>\n",
       "      <td>-0.624431</td>\n",
       "      <td>0.89</td>\n",
       "      <td>0</td>\n",
       "      <td>0</td>\n",
       "    </tr>\n",
       "    <tr>\n",
       "      <th>175</th>\n",
       "      <td>112</td>\n",
       "      <td>1.102698</td>\n",
       "      <td>0.103965</td>\n",
       "      <td>0.934479</td>\n",
       "      <td>1.152704</td>\n",
       "      <td>-0.693597</td>\n",
       "      <td>-0.584580</td>\n",
       "      <td>-0.148439</td>\n",
       "      <td>-0.112031</td>\n",
       "      <td>0.196750</td>\n",
       "      <td>...</td>\n",
       "      <td>-0.098781</td>\n",
       "      <td>0.003331</td>\n",
       "      <td>0.394412</td>\n",
       "      <td>0.334208</td>\n",
       "      <td>-0.520700</td>\n",
       "      <td>0.045952</td>\n",
       "      <td>0.048005</td>\n",
       "      <td>54.99</td>\n",
       "      <td>0</td>\n",
       "      <td>0</td>\n",
       "    </tr>\n",
       "    <tr>\n",
       "      <th>...</th>\n",
       "      <td>...</td>\n",
       "      <td>...</td>\n",
       "      <td>...</td>\n",
       "      <td>...</td>\n",
       "      <td>...</td>\n",
       "      <td>...</td>\n",
       "      <td>...</td>\n",
       "      <td>...</td>\n",
       "      <td>...</td>\n",
       "      <td>...</td>\n",
       "      <td>...</td>\n",
       "      <td>...</td>\n",
       "      <td>...</td>\n",
       "      <td>...</td>\n",
       "      <td>...</td>\n",
       "      <td>...</td>\n",
       "      <td>...</td>\n",
       "      <td>...</td>\n",
       "      <td>...</td>\n",
       "      <td>...</td>\n",
       "      <td>...</td>\n",
       "    </tr>\n",
       "    <tr>\n",
       "      <th>23</th>\n",
       "      <td>18</td>\n",
       "      <td>0.247491</td>\n",
       "      <td>0.277666</td>\n",
       "      <td>1.185471</td>\n",
       "      <td>-0.092603</td>\n",
       "      <td>-1.314394</td>\n",
       "      <td>-0.150116</td>\n",
       "      <td>-0.946365</td>\n",
       "      <td>-1.617935</td>\n",
       "      <td>1.544071</td>\n",
       "      <td>...</td>\n",
       "      <td>0.200454</td>\n",
       "      <td>-0.185353</td>\n",
       "      <td>0.423073</td>\n",
       "      <td>0.820591</td>\n",
       "      <td>-0.227632</td>\n",
       "      <td>0.336634</td>\n",
       "      <td>0.250475</td>\n",
       "      <td>22.75</td>\n",
       "      <td>0</td>\n",
       "      <td>13</td>\n",
       "    </tr>\n",
       "    <tr>\n",
       "      <th>113</th>\n",
       "      <td>74</td>\n",
       "      <td>1.038370</td>\n",
       "      <td>0.127486</td>\n",
       "      <td>0.184456</td>\n",
       "      <td>1.109950</td>\n",
       "      <td>0.441699</td>\n",
       "      <td>0.945283</td>\n",
       "      <td>-0.036715</td>\n",
       "      <td>0.350995</td>\n",
       "      <td>0.118950</td>\n",
       "      <td>...</td>\n",
       "      <td>0.605089</td>\n",
       "      <td>0.023092</td>\n",
       "      <td>-0.626463</td>\n",
       "      <td>0.479120</td>\n",
       "      <td>-0.166937</td>\n",
       "      <td>0.081247</td>\n",
       "      <td>0.001192</td>\n",
       "      <td>1.18</td>\n",
       "      <td>0</td>\n",
       "      <td>13</td>\n",
       "    </tr>\n",
       "    <tr>\n",
       "      <th>132</th>\n",
       "      <td>83</td>\n",
       "      <td>-1.864990</td>\n",
       "      <td>0.910874</td>\n",
       "      <td>1.724863</td>\n",
       "      <td>-1.748371</td>\n",
       "      <td>0.578943</td>\n",
       "      <td>-0.832531</td>\n",
       "      <td>1.901440</td>\n",
       "      <td>-1.913986</td>\n",
       "      <td>2.112375</td>\n",
       "      <td>...</td>\n",
       "      <td>0.073323</td>\n",
       "      <td>-0.061693</td>\n",
       "      <td>0.547204</td>\n",
       "      <td>-0.466798</td>\n",
       "      <td>0.408030</td>\n",
       "      <td>-2.377933</td>\n",
       "      <td>-1.255549</td>\n",
       "      <td>7.69</td>\n",
       "      <td>0</td>\n",
       "      <td>13</td>\n",
       "    </tr>\n",
       "    <tr>\n",
       "      <th>81</th>\n",
       "      <td>52</td>\n",
       "      <td>1.147369</td>\n",
       "      <td>0.059035</td>\n",
       "      <td>0.263632</td>\n",
       "      <td>1.211023</td>\n",
       "      <td>-0.044096</td>\n",
       "      <td>0.301067</td>\n",
       "      <td>-0.132960</td>\n",
       "      <td>0.227885</td>\n",
       "      <td>0.252191</td>\n",
       "      <td>...</td>\n",
       "      <td>-0.110756</td>\n",
       "      <td>-0.097771</td>\n",
       "      <td>-0.323374</td>\n",
       "      <td>0.633279</td>\n",
       "      <td>-0.305328</td>\n",
       "      <td>0.027394</td>\n",
       "      <td>-0.000580</td>\n",
       "      <td>6.67</td>\n",
       "      <td>0</td>\n",
       "      <td>13</td>\n",
       "    </tr>\n",
       "    <tr>\n",
       "      <th>97</th>\n",
       "      <td>67</td>\n",
       "      <td>-0.653445</td>\n",
       "      <td>0.160225</td>\n",
       "      <td>1.592256</td>\n",
       "      <td>1.296832</td>\n",
       "      <td>0.997175</td>\n",
       "      <td>-0.343000</td>\n",
       "      <td>0.469937</td>\n",
       "      <td>-0.132470</td>\n",
       "      <td>-0.197794</td>\n",
       "      <td>...</td>\n",
       "      <td>0.336449</td>\n",
       "      <td>-0.014883</td>\n",
       "      <td>0.102959</td>\n",
       "      <td>-0.265322</td>\n",
       "      <td>-0.348637</td>\n",
       "      <td>0.011238</td>\n",
       "      <td>-0.049478</td>\n",
       "      <td>19.85</td>\n",
       "      <td>0</td>\n",
       "      <td>13</td>\n",
       "    </tr>\n",
       "  </tbody>\n",
       "</table>\n",
       "<p>140 rows × 32 columns</p>\n",
       "</div>"
      ],
      "text/plain": [
       "     Time        V1        V2        V3        V4        V5        V6  \\\n",
       "215   142  1.211406  0.007850  0.950798  1.137646 -0.495189  0.301371   \n",
       "166   105  1.175094  0.408263  0.552145  1.255068 -0.196662 -0.565605   \n",
       "241   162  1.039964 -0.534355  1.865190  1.145122 -1.488133  0.589641   \n",
       "225   147 -2.687978  4.390230 -2.360483  0.360829  1.310192 -1.645253   \n",
       "175   112  1.102698  0.103965  0.934479  1.152704 -0.693597 -0.584580   \n",
       "..    ...       ...       ...       ...       ...       ...       ...   \n",
       "23     18  0.247491  0.277666  1.185471 -0.092603 -1.314394 -0.150116   \n",
       "113    74  1.038370  0.127486  0.184456  1.109950  0.441699  0.945283   \n",
       "132    83 -1.864990  0.910874  1.724863 -1.748371  0.578943 -0.832531   \n",
       "81     52  1.147369  0.059035  0.263632  1.211023 -0.044096  0.301067   \n",
       "97     67 -0.653445  0.160225  1.592256  1.296832  0.997175 -0.343000   \n",
       "\n",
       "           V7        V8        V9  ...       V22       V23       V24  \\\n",
       "215 -0.518350  0.095426  0.817592  ... -0.057153 -0.118933 -0.421241   \n",
       "166  0.133973 -0.146202 -0.214155  ...  0.523640 -0.050125  0.448133   \n",
       "241 -1.119900  0.382781  1.419160  ...  0.430843 -0.071344  0.638434   \n",
       "225  2.327776 -1.727825  4.324752  ... -0.156951  0.079854 -0.012598   \n",
       "175 -0.148439 -0.112031  0.196750  ... -0.098781  0.003331  0.394412   \n",
       "..        ...       ...       ...  ...       ...       ...       ...   \n",
       "23  -0.946365 -1.617935  1.544071  ...  0.200454 -0.185353  0.423073   \n",
       "113 -0.036715  0.350995  0.118950  ...  0.605089  0.023092 -0.626463   \n",
       "132  1.901440 -1.913986  2.112375  ...  0.073323 -0.061693  0.547204   \n",
       "81  -0.132960  0.227885  0.252191  ... -0.110756 -0.097771 -0.323374   \n",
       "97   0.469937 -0.132470 -0.197794  ...  0.336449 -0.014883  0.102959   \n",
       "\n",
       "          V25       V26       V27       V28  Amount  Class  Cluster  \n",
       "215  0.556146 -0.360164  0.076930  0.031800    9.99      0        0  \n",
       "166  0.597867 -0.275067  0.043308  0.023924    1.00      0        0  \n",
       "241  0.366778  0.451211  0.053840  0.023451   22.00      0        0  \n",
       "225  0.207194 -0.536578  0.950393 -0.624431    0.89      0        0  \n",
       "175  0.334208 -0.520700  0.045952  0.048005   54.99      0        0  \n",
       "..        ...       ...       ...       ...     ...    ...      ...  \n",
       "23   0.820591 -0.227632  0.336634  0.250475   22.75      0       13  \n",
       "113  0.479120 -0.166937  0.081247  0.001192    1.18      0       13  \n",
       "132 -0.466798  0.408030 -2.377933 -1.255549    7.69      0       13  \n",
       "81   0.633279 -0.305328  0.027394 -0.000580    6.67      0       13  \n",
       "97  -0.265322 -0.348637  0.011238 -0.049478   19.85      0       13  \n",
       "\n",
       "[140 rows x 32 columns]"
      ]
     },
     "execution_count": 53,
     "metadata": {},
     "output_type": "execute_result"
    }
   ],
   "source": [
    "selected_df"
   ]
  },
  {
   "cell_type": "code",
   "execution_count": 54,
   "id": "cf061fd8",
   "metadata": {},
   "outputs": [],
   "source": [
    "y_s4=selected_df['Class']"
   ]
  },
  {
   "cell_type": "code",
   "execution_count": 55,
   "id": "e3e2c36b",
   "metadata": {},
   "outputs": [],
   "source": [
    "x_s4=selected_df[selected_df.columns.drop(\"Cluster\")]\n"
   ]
  },
  {
   "cell_type": "code",
   "execution_count": 56,
   "id": "4f9ade50",
   "metadata": {},
   "outputs": [],
   "source": [
    "x_s4=x_s4[x_s4.columns.drop(\"Class\")]\n"
   ]
  },
  {
   "cell_type": "code",
   "execution_count": 57,
   "id": "92037ffa",
   "metadata": {},
   "outputs": [
    {
     "data": {
      "text/html": [
       "<div>\n",
       "<style scoped>\n",
       "    .dataframe tbody tr th:only-of-type {\n",
       "        vertical-align: middle;\n",
       "    }\n",
       "\n",
       "    .dataframe tbody tr th {\n",
       "        vertical-align: top;\n",
       "    }\n",
       "\n",
       "    .dataframe thead th {\n",
       "        text-align: right;\n",
       "    }\n",
       "</style>\n",
       "<table border=\"1\" class=\"dataframe\">\n",
       "  <thead>\n",
       "    <tr style=\"text-align: right;\">\n",
       "      <th></th>\n",
       "      <th>Time</th>\n",
       "      <th>V1</th>\n",
       "      <th>V2</th>\n",
       "      <th>V3</th>\n",
       "      <th>V4</th>\n",
       "      <th>V5</th>\n",
       "      <th>V6</th>\n",
       "      <th>V7</th>\n",
       "      <th>V8</th>\n",
       "      <th>V9</th>\n",
       "      <th>...</th>\n",
       "      <th>V20</th>\n",
       "      <th>V21</th>\n",
       "      <th>V22</th>\n",
       "      <th>V23</th>\n",
       "      <th>V24</th>\n",
       "      <th>V25</th>\n",
       "      <th>V26</th>\n",
       "      <th>V27</th>\n",
       "      <th>V28</th>\n",
       "      <th>Amount</th>\n",
       "    </tr>\n",
       "  </thead>\n",
       "  <tbody>\n",
       "    <tr>\n",
       "      <th>215</th>\n",
       "      <td>142</td>\n",
       "      <td>1.211406</td>\n",
       "      <td>0.007850</td>\n",
       "      <td>0.950798</td>\n",
       "      <td>1.137646</td>\n",
       "      <td>-0.495189</td>\n",
       "      <td>0.301371</td>\n",
       "      <td>-0.518350</td>\n",
       "      <td>0.095426</td>\n",
       "      <td>0.817592</td>\n",
       "      <td>...</td>\n",
       "      <td>-0.049912</td>\n",
       "      <td>-0.107248</td>\n",
       "      <td>-0.057153</td>\n",
       "      <td>-0.118933</td>\n",
       "      <td>-0.421241</td>\n",
       "      <td>0.556146</td>\n",
       "      <td>-0.360164</td>\n",
       "      <td>0.076930</td>\n",
       "      <td>0.031800</td>\n",
       "      <td>9.99</td>\n",
       "    </tr>\n",
       "    <tr>\n",
       "      <th>166</th>\n",
       "      <td>105</td>\n",
       "      <td>1.175094</td>\n",
       "      <td>0.408263</td>\n",
       "      <td>0.552145</td>\n",
       "      <td>1.255068</td>\n",
       "      <td>-0.196662</td>\n",
       "      <td>-0.565605</td>\n",
       "      <td>0.133973</td>\n",
       "      <td>-0.146202</td>\n",
       "      <td>-0.214155</td>\n",
       "      <td>...</td>\n",
       "      <td>-0.116439</td>\n",
       "      <td>0.130585</td>\n",
       "      <td>0.523640</td>\n",
       "      <td>-0.050125</td>\n",
       "      <td>0.448133</td>\n",
       "      <td>0.597867</td>\n",
       "      <td>-0.275067</td>\n",
       "      <td>0.043308</td>\n",
       "      <td>0.023924</td>\n",
       "      <td>1.00</td>\n",
       "    </tr>\n",
       "    <tr>\n",
       "      <th>241</th>\n",
       "      <td>162</td>\n",
       "      <td>1.039964</td>\n",
       "      <td>-0.534355</td>\n",
       "      <td>1.865190</td>\n",
       "      <td>1.145122</td>\n",
       "      <td>-1.488133</td>\n",
       "      <td>0.589641</td>\n",
       "      <td>-1.119900</td>\n",
       "      <td>0.382781</td>\n",
       "      <td>1.419160</td>\n",
       "      <td>...</td>\n",
       "      <td>-0.053880</td>\n",
       "      <td>-0.014701</td>\n",
       "      <td>0.430843</td>\n",
       "      <td>-0.071344</td>\n",
       "      <td>0.638434</td>\n",
       "      <td>0.366778</td>\n",
       "      <td>0.451211</td>\n",
       "      <td>0.053840</td>\n",
       "      <td>0.023451</td>\n",
       "      <td>22.00</td>\n",
       "    </tr>\n",
       "    <tr>\n",
       "      <th>225</th>\n",
       "      <td>147</td>\n",
       "      <td>-2.687978</td>\n",
       "      <td>4.390230</td>\n",
       "      <td>-2.360483</td>\n",
       "      <td>0.360829</td>\n",
       "      <td>1.310192</td>\n",
       "      <td>-1.645253</td>\n",
       "      <td>2.327776</td>\n",
       "      <td>-1.727825</td>\n",
       "      <td>4.324752</td>\n",
       "      <td>...</td>\n",
       "      <td>3.169344</td>\n",
       "      <td>-1.045961</td>\n",
       "      <td>-0.156951</td>\n",
       "      <td>0.079854</td>\n",
       "      <td>-0.012598</td>\n",
       "      <td>0.207194</td>\n",
       "      <td>-0.536578</td>\n",
       "      <td>0.950393</td>\n",
       "      <td>-0.624431</td>\n",
       "      <td>0.89</td>\n",
       "    </tr>\n",
       "    <tr>\n",
       "      <th>175</th>\n",
       "      <td>112</td>\n",
       "      <td>1.102698</td>\n",
       "      <td>0.103965</td>\n",
       "      <td>0.934479</td>\n",
       "      <td>1.152704</td>\n",
       "      <td>-0.693597</td>\n",
       "      <td>-0.584580</td>\n",
       "      <td>-0.148439</td>\n",
       "      <td>-0.112031</td>\n",
       "      <td>0.196750</td>\n",
       "      <td>...</td>\n",
       "      <td>0.037095</td>\n",
       "      <td>-0.017211</td>\n",
       "      <td>-0.098781</td>\n",
       "      <td>0.003331</td>\n",
       "      <td>0.394412</td>\n",
       "      <td>0.334208</td>\n",
       "      <td>-0.520700</td>\n",
       "      <td>0.045952</td>\n",
       "      <td>0.048005</td>\n",
       "      <td>54.99</td>\n",
       "    </tr>\n",
       "    <tr>\n",
       "      <th>...</th>\n",
       "      <td>...</td>\n",
       "      <td>...</td>\n",
       "      <td>...</td>\n",
       "      <td>...</td>\n",
       "      <td>...</td>\n",
       "      <td>...</td>\n",
       "      <td>...</td>\n",
       "      <td>...</td>\n",
       "      <td>...</td>\n",
       "      <td>...</td>\n",
       "      <td>...</td>\n",
       "      <td>...</td>\n",
       "      <td>...</td>\n",
       "      <td>...</td>\n",
       "      <td>...</td>\n",
       "      <td>...</td>\n",
       "      <td>...</td>\n",
       "      <td>...</td>\n",
       "      <td>...</td>\n",
       "      <td>...</td>\n",
       "      <td>...</td>\n",
       "    </tr>\n",
       "    <tr>\n",
       "      <th>23</th>\n",
       "      <td>18</td>\n",
       "      <td>0.247491</td>\n",
       "      <td>0.277666</td>\n",
       "      <td>1.185471</td>\n",
       "      <td>-0.092603</td>\n",
       "      <td>-1.314394</td>\n",
       "      <td>-0.150116</td>\n",
       "      <td>-0.946365</td>\n",
       "      <td>-1.617935</td>\n",
       "      <td>1.544071</td>\n",
       "      <td>...</td>\n",
       "      <td>-0.230983</td>\n",
       "      <td>1.650180</td>\n",
       "      <td>0.200454</td>\n",
       "      <td>-0.185353</td>\n",
       "      <td>0.423073</td>\n",
       "      <td>0.820591</td>\n",
       "      <td>-0.227632</td>\n",
       "      <td>0.336634</td>\n",
       "      <td>0.250475</td>\n",
       "      <td>22.75</td>\n",
       "    </tr>\n",
       "    <tr>\n",
       "      <th>113</th>\n",
       "      <td>74</td>\n",
       "      <td>1.038370</td>\n",
       "      <td>0.127486</td>\n",
       "      <td>0.184456</td>\n",
       "      <td>1.109950</td>\n",
       "      <td>0.441699</td>\n",
       "      <td>0.945283</td>\n",
       "      <td>-0.036715</td>\n",
       "      <td>0.350995</td>\n",
       "      <td>0.118950</td>\n",
       "      <td>...</td>\n",
       "      <td>-0.335520</td>\n",
       "      <td>0.102520</td>\n",
       "      <td>0.605089</td>\n",
       "      <td>0.023092</td>\n",
       "      <td>-0.626463</td>\n",
       "      <td>0.479120</td>\n",
       "      <td>-0.166937</td>\n",
       "      <td>0.081247</td>\n",
       "      <td>0.001192</td>\n",
       "      <td>1.18</td>\n",
       "    </tr>\n",
       "    <tr>\n",
       "      <th>132</th>\n",
       "      <td>83</td>\n",
       "      <td>-1.864990</td>\n",
       "      <td>0.910874</td>\n",
       "      <td>1.724863</td>\n",
       "      <td>-1.748371</td>\n",
       "      <td>0.578943</td>\n",
       "      <td>-0.832531</td>\n",
       "      <td>1.901440</td>\n",
       "      <td>-1.913986</td>\n",
       "      <td>2.112375</td>\n",
       "      <td>...</td>\n",
       "      <td>0.274877</td>\n",
       "      <td>-0.318597</td>\n",
       "      <td>0.073323</td>\n",
       "      <td>-0.061693</td>\n",
       "      <td>0.547204</td>\n",
       "      <td>-0.466798</td>\n",
       "      <td>0.408030</td>\n",
       "      <td>-2.377933</td>\n",
       "      <td>-1.255549</td>\n",
       "      <td>7.69</td>\n",
       "    </tr>\n",
       "    <tr>\n",
       "      <th>81</th>\n",
       "      <td>52</td>\n",
       "      <td>1.147369</td>\n",
       "      <td>0.059035</td>\n",
       "      <td>0.263632</td>\n",
       "      <td>1.211023</td>\n",
       "      <td>-0.044096</td>\n",
       "      <td>0.301067</td>\n",
       "      <td>-0.132960</td>\n",
       "      <td>0.227885</td>\n",
       "      <td>0.252191</td>\n",
       "      <td>...</td>\n",
       "      <td>-0.255924</td>\n",
       "      <td>-0.087813</td>\n",
       "      <td>-0.110756</td>\n",
       "      <td>-0.097771</td>\n",
       "      <td>-0.323374</td>\n",
       "      <td>0.633279</td>\n",
       "      <td>-0.305328</td>\n",
       "      <td>0.027394</td>\n",
       "      <td>-0.000580</td>\n",
       "      <td>6.67</td>\n",
       "    </tr>\n",
       "    <tr>\n",
       "      <th>97</th>\n",
       "      <td>67</td>\n",
       "      <td>-0.653445</td>\n",
       "      <td>0.160225</td>\n",
       "      <td>1.592256</td>\n",
       "      <td>1.296832</td>\n",
       "      <td>0.997175</td>\n",
       "      <td>-0.343000</td>\n",
       "      <td>0.469937</td>\n",
       "      <td>-0.132470</td>\n",
       "      <td>-0.197794</td>\n",
       "      <td>...</td>\n",
       "      <td>0.225920</td>\n",
       "      <td>0.038363</td>\n",
       "      <td>0.336449</td>\n",
       "      <td>-0.014883</td>\n",
       "      <td>0.102959</td>\n",
       "      <td>-0.265322</td>\n",
       "      <td>-0.348637</td>\n",
       "      <td>0.011238</td>\n",
       "      <td>-0.049478</td>\n",
       "      <td>19.85</td>\n",
       "    </tr>\n",
       "  </tbody>\n",
       "</table>\n",
       "<p>140 rows × 30 columns</p>\n",
       "</div>"
      ],
      "text/plain": [
       "     Time        V1        V2        V3        V4        V5        V6  \\\n",
       "215   142  1.211406  0.007850  0.950798  1.137646 -0.495189  0.301371   \n",
       "166   105  1.175094  0.408263  0.552145  1.255068 -0.196662 -0.565605   \n",
       "241   162  1.039964 -0.534355  1.865190  1.145122 -1.488133  0.589641   \n",
       "225   147 -2.687978  4.390230 -2.360483  0.360829  1.310192 -1.645253   \n",
       "175   112  1.102698  0.103965  0.934479  1.152704 -0.693597 -0.584580   \n",
       "..    ...       ...       ...       ...       ...       ...       ...   \n",
       "23     18  0.247491  0.277666  1.185471 -0.092603 -1.314394 -0.150116   \n",
       "113    74  1.038370  0.127486  0.184456  1.109950  0.441699  0.945283   \n",
       "132    83 -1.864990  0.910874  1.724863 -1.748371  0.578943 -0.832531   \n",
       "81     52  1.147369  0.059035  0.263632  1.211023 -0.044096  0.301067   \n",
       "97     67 -0.653445  0.160225  1.592256  1.296832  0.997175 -0.343000   \n",
       "\n",
       "           V7        V8        V9  ...       V20       V21       V22  \\\n",
       "215 -0.518350  0.095426  0.817592  ... -0.049912 -0.107248 -0.057153   \n",
       "166  0.133973 -0.146202 -0.214155  ... -0.116439  0.130585  0.523640   \n",
       "241 -1.119900  0.382781  1.419160  ... -0.053880 -0.014701  0.430843   \n",
       "225  2.327776 -1.727825  4.324752  ...  3.169344 -1.045961 -0.156951   \n",
       "175 -0.148439 -0.112031  0.196750  ...  0.037095 -0.017211 -0.098781   \n",
       "..        ...       ...       ...  ...       ...       ...       ...   \n",
       "23  -0.946365 -1.617935  1.544071  ... -0.230983  1.650180  0.200454   \n",
       "113 -0.036715  0.350995  0.118950  ... -0.335520  0.102520  0.605089   \n",
       "132  1.901440 -1.913986  2.112375  ...  0.274877 -0.318597  0.073323   \n",
       "81  -0.132960  0.227885  0.252191  ... -0.255924 -0.087813 -0.110756   \n",
       "97   0.469937 -0.132470 -0.197794  ...  0.225920  0.038363  0.336449   \n",
       "\n",
       "          V23       V24       V25       V26       V27       V28  Amount  \n",
       "215 -0.118933 -0.421241  0.556146 -0.360164  0.076930  0.031800    9.99  \n",
       "166 -0.050125  0.448133  0.597867 -0.275067  0.043308  0.023924    1.00  \n",
       "241 -0.071344  0.638434  0.366778  0.451211  0.053840  0.023451   22.00  \n",
       "225  0.079854 -0.012598  0.207194 -0.536578  0.950393 -0.624431    0.89  \n",
       "175  0.003331  0.394412  0.334208 -0.520700  0.045952  0.048005   54.99  \n",
       "..        ...       ...       ...       ...       ...       ...     ...  \n",
       "23  -0.185353  0.423073  0.820591 -0.227632  0.336634  0.250475   22.75  \n",
       "113  0.023092 -0.626463  0.479120 -0.166937  0.081247  0.001192    1.18  \n",
       "132 -0.061693  0.547204 -0.466798  0.408030 -2.377933 -1.255549    7.69  \n",
       "81  -0.097771 -0.323374  0.633279 -0.305328  0.027394 -0.000580    6.67  \n",
       "97  -0.014883  0.102959 -0.265322 -0.348637  0.011238 -0.049478   19.85  \n",
       "\n",
       "[140 rows x 30 columns]"
      ]
     },
     "execution_count": 57,
     "metadata": {},
     "output_type": "execute_result"
    }
   ],
   "source": [
    "x_s4"
   ]
  },
  {
   "cell_type": "markdown",
   "id": "705f1202",
   "metadata": {},
   "source": [
    "## MODELS "
   ]
  },
  {
   "cell_type": "markdown",
   "id": "937f8719",
   "metadata": {},
   "source": [
    "#### MODEL 1 :Random Forest"
   ]
  },
  {
   "cell_type": "code",
   "execution_count": null,
   "id": "a6f7adec",
   "metadata": {},
   "outputs": [],
   "source": [
    "from sklearn.ensemble import RandomForestClassifier\n",
    "from sklearn.metrics import accuracy_score\n",
    "\n",
    "\n",
    "# Create a Random Forest classifier object\n",
    "rf = RandomForestClassifier()\n",
    "\n",
    "# Fit the classifier to the training data\n",
    "rf.fit(X_train, y_train)\n",
    "\n",
    "# Use the classifier to make predictions on the test data\n",
    "y_pred = clf4.predict(X_test)\n",
    "\n",
    "# Evaluate the classifier's accuracy using metrics like accuracy_score\n",
    "from sklearn.metrics import accuracy_score\n",
    "print(accuracy_score(y_test, y_pred))\n",
    "\n",
    "\n",
    "accuracy = accuracy_score(y_test, y_pred)\n",
    "print(\"Accuracy: {:.2f}%\".format(accuracy * 100))\n"
   ]
  },
  {
   "cell_type": "markdown",
   "id": "9c182973",
   "metadata": {},
   "source": [
    "#### MODEL 2: LOGISTIC REGRESSION"
   ]
  },
  {
   "cell_type": "code",
   "execution_count": null,
   "id": "30bd2425",
   "metadata": {},
   "outputs": [],
   "source": [
    "from sklearn.linear_model import LogisticRegression\n",
    "from sklearn.model_selection import train_test_split\n",
    "from sklearn import datasets\n",
    "\n",
    "# train the model\n",
    "lr = LogisticRegression()\n",
    "lr.fit(X_train, y_train)\n",
    "\n",
    "# make predictions on the test set\n",
    "y_pred = lr.predict(X_test)\n",
    "\n",
    "# evaluate the model\n",
    "score = clf.score(X_test, y_test)\n",
    "print(\"Accuracy:\", score)"
   ]
  },
  {
   "cell_type": "markdown",
   "id": "3ec3bdac",
   "metadata": {},
   "source": [
    "#### MODEL 3: ADA BOOST"
   ]
  },
  {
   "cell_type": "code",
   "execution_count": null,
   "id": "9da1b39b",
   "metadata": {},
   "outputs": [],
   "source": [
    "from sklearn.ensemble import AdaBoostClassifier\n",
    "from sklearn.ensemble import RandomForestClassifier\n",
    "\n",
    "# Create a random forest classifier\n",
    "rf = RandomForestClassifier(n_estimators=15, max_depth=10)\n",
    "\n",
    "# Create an AdaBoost classifier\n",
    "boost = AdaBoostClassifier(base_estimator=rf, n_estimators=30, learning_rate=0.1)\n",
    "\n",
    "# Fit the AdaBoost classifier to the training data\n",
    "boost.fit(X_train, y_train)\n",
    "\n",
    "y_pred = boost.predict(X_test)\n",
    "accuracy = accuracy_score(y_test, y_pred)\n",
    "print(\"Accuracy: {:.2f}%\".format(accuracy * 100))\n",
    "from sklearn.model_selection import cross_val_score\n",
    "scores = cross_val_score(boost, X_test, y_test, cv=5)\n",
    "print(\"Cross Validation Accuracy: %0.2f (+/- %0.2f)\" % (scores.mean(), scores.std() * 2))"
   ]
  },
  {
   "cell_type": "markdown",
   "id": "a4adb675",
   "metadata": {},
   "source": [
    "####  MODEL 4: XG BOOST"
   ]
  },
  {
   "cell_type": "code",
   "execution_count": null,
   "id": "3afcf389",
   "metadata": {},
   "outputs": [],
   "source": [
    "import xgboost as xgb\n",
    "from sklearn.datasets import load_iris\n",
    "from sklearn.model_selection import train_test_split\n",
    "\n",
    "# Set the hyperparameters for the model\n",
    "#param = {'max_depth': 3, 'eta': 0.1, 'objective': 'multi:softmax', 'num_class': 3}\n",
    "\n",
    "# Train the model\n",
    "#model = xgb.XGBClassifier(params=param,num_boost_round=10)\n",
    "model = xgb.XGBClassifier(max_depth=5, eta=0.7, objective='multi:softmax', num_class=5, n_estimators=10)\n",
    "\n",
    "model.fit(X_train,y_train)\n",
    "\n",
    "# Make predictions on the test set\n",
    "predictions = model.predict(X_test)\n",
    "\n",
    "# Evaluate the model's accuracy\n",
    "accuracy = (predictions == y_test).mean()\n",
    "print(\"Accuracy: \", accuracy)\n"
   ]
  },
  {
   "cell_type": "markdown",
   "id": "49f3c522",
   "metadata": {},
   "source": [
    "#### MODEL 5: BAGGING CLASSIFIER"
   ]
  },
  {
   "cell_type": "code",
   "execution_count": null,
   "id": "b28514d9",
   "metadata": {},
   "outputs": [],
   "source": [
    "from sklearn.ensemble import BaggingClassifier\n",
    "from sklearn.tree import DecisionTreeClassifier\n",
    "\n",
    "# Create an instance of the DecisionTreeClassifier\n",
    "dt = DecisionTreeClassifier()\n",
    "\n",
    "# Create an instance of the BaggingClassifier\n",
    "bagging = BaggingClassifier(base_estimator=dt, n_estimators=50)\n",
    "\n",
    "# Fit the model to the training data\n",
    "bagging.fit(X_train, y_train)\n",
    "\n",
    "# Predict on the test data\n",
    "y_pred = bagging.predict(X_test)\n",
    "\n",
    "# Evaluate the performance\n",
    "from sklearn.metrics import accuracy_score\n",
    "print(accuracy_score(y_test, y_pred))\n"
   ]
  },
  {
   "cell_type": "markdown",
   "id": "22a13f27",
   "metadata": {},
   "source": [
    "## APPLYING THE MODELS ON THE SAMPLES"
   ]
  },
  {
   "cell_type": "markdown",
   "id": "f1d47258",
   "metadata": {},
   "source": [
    "### SAMPLE 1"
   ]
  },
  {
   "cell_type": "code",
   "execution_count": 106,
   "id": "0ac11ebb",
   "metadata": {},
   "outputs": [],
   "source": [
    "X_train=x_s1\n",
    "y_train=y_s1\n",
    "\n",
    "X_test=x_tl\n",
    "y_test=y_tl\n",
    "\n",
    "\n"
   ]
  },
  {
   "cell_type": "code",
   "execution_count": 107,
   "id": "12b3b2cd",
   "metadata": {},
   "outputs": [],
   "source": [
    "x_s1_accuracy=[]\n",
    "x_s2_accuracy=[]\n",
    "x_s3_accuracy=[]\n",
    "x_s4_accuracy=[]"
   ]
  },
  {
   "cell_type": "code",
   "execution_count": 108,
   "id": "6ddd822e",
   "metadata": {},
   "outputs": [
    {
     "name": "stdout",
     "output_type": "stream",
     "text": [
      "0.9875491480996068\n",
      "Accuracy: 98.75%\n"
     ]
    }
   ],
   "source": [
    "from sklearn.ensemble import RandomForestClassifier\n",
    "from sklearn.metrics import accuracy_score\n",
    "\n",
    "\n",
    "# Create a Random Forest classifier object\n",
    "rf = RandomForestClassifier()\n",
    "\n",
    "# Fit the classifier to the training data\n",
    "rf.fit(X_train, y_train)\n",
    "\n",
    "# Use the classifier to make predictions on the test data\n",
    "y_pred = rf.predict(X_test)\n",
    "\n",
    "# Evaluate the classifier's accuracy using metrics like accuracy_score\n",
    "from sklearn.metrics import accuracy_score\n",
    "print(accuracy_score(y_test, y_pred))\n",
    "\n",
    "\n",
    "accuracy = accuracy_score(y_test, y_pred)\n",
    "print(\"Accuracy: {:.2f}%\".format(accuracy * 100))\n",
    "x_s1_accuracy.append(accuracy * 100)\n",
    "\n"
   ]
  },
  {
   "cell_type": "code",
   "execution_count": 109,
   "id": "a9c73842",
   "metadata": {},
   "outputs": [
    {
     "data": {
      "text/plain": [
       "[98.75491480996068]"
      ]
     },
     "execution_count": 109,
     "metadata": {},
     "output_type": "execute_result"
    }
   ],
   "source": [
    "x_s1_accuracy"
   ]
  },
  {
   "cell_type": "code",
   "execution_count": 110,
   "id": "58f66e19",
   "metadata": {
    "collapsed": true
   },
   "outputs": [
    {
     "name": "stdout",
     "output_type": "stream",
     "text": [
      "Accuracy: 0.9043250327653998\n"
     ]
    },
    {
     "name": "stderr",
     "output_type": "stream",
     "text": [
      "C:\\Users\\91982\\AppData\\Roaming\\Python\\Python311\\site-packages\\sklearn\\linear_model\\_logistic.py:458: ConvergenceWarning: lbfgs failed to converge (status=1):\n",
      "STOP: TOTAL NO. of ITERATIONS REACHED LIMIT.\n",
      "\n",
      "Increase the number of iterations (max_iter) or scale the data as shown in:\n",
      "    https://scikit-learn.org/stable/modules/preprocessing.html\n",
      "Please also refer to the documentation for alternative solver options:\n",
      "    https://scikit-learn.org/stable/modules/linear_model.html#logistic-regression\n",
      "  n_iter_i = _check_optimize_result(\n"
     ]
    }
   ],
   "source": [
    "from sklearn.linear_model import LogisticRegression\n",
    "from sklearn.model_selection import train_test_split\n",
    "from sklearn import datasets\n",
    "\n",
    "# train the model\n",
    "lr = LogisticRegression()\n",
    "lr.fit(X_train, y_train)\n",
    "\n",
    "# make predictions on the test set\n",
    "y_pred = lr.predict(X_test)\n",
    "\n",
    "# evaluate the model\n",
    "score = lr.score(X_test, y_test)\n",
    "print(\"Accuracy:\", score)\n",
    "x_s1_accuracy.append(score * 100)\n"
   ]
  },
  {
   "cell_type": "code",
   "execution_count": 111,
   "id": "e4f50128",
   "metadata": {
    "collapsed": true
   },
   "outputs": [
    {
     "name": "stderr",
     "output_type": "stream",
     "text": [
      "C:\\Users\\91982\\AppData\\Roaming\\Python\\Python311\\site-packages\\sklearn\\ensemble\\_base.py:166: FutureWarning: `base_estimator` was renamed to `estimator` in version 1.2 and will be removed in 1.4.\n",
      "  warnings.warn(\n",
      "C:\\Users\\91982\\AppData\\Roaming\\Python\\Python311\\site-packages\\sklearn\\ensemble\\_base.py:166: FutureWarning: `base_estimator` was renamed to `estimator` in version 1.2 and will be removed in 1.4.\n",
      "  warnings.warn(\n"
     ]
    },
    {
     "name": "stdout",
     "output_type": "stream",
     "text": [
      "Accuracy: 98.23%\n"
     ]
    },
    {
     "name": "stderr",
     "output_type": "stream",
     "text": [
      "C:\\Users\\91982\\AppData\\Roaming\\Python\\Python311\\site-packages\\sklearn\\ensemble\\_base.py:166: FutureWarning: `base_estimator` was renamed to `estimator` in version 1.2 and will be removed in 1.4.\n",
      "  warnings.warn(\n",
      "C:\\Users\\91982\\AppData\\Roaming\\Python\\Python311\\site-packages\\sklearn\\ensemble\\_base.py:166: FutureWarning: `base_estimator` was renamed to `estimator` in version 1.2 and will be removed in 1.4.\n",
      "  warnings.warn(\n",
      "C:\\Users\\91982\\AppData\\Roaming\\Python\\Python311\\site-packages\\sklearn\\ensemble\\_base.py:166: FutureWarning: `base_estimator` was renamed to `estimator` in version 1.2 and will be removed in 1.4.\n",
      "  warnings.warn(\n"
     ]
    },
    {
     "name": "stdout",
     "output_type": "stream",
     "text": [
      "Cross Validation Accuracy: 1.00 (+/- 0.01)\n"
     ]
    },
    {
     "name": "stderr",
     "output_type": "stream",
     "text": [
      "C:\\Users\\91982\\AppData\\Roaming\\Python\\Python311\\site-packages\\sklearn\\ensemble\\_base.py:166: FutureWarning: `base_estimator` was renamed to `estimator` in version 1.2 and will be removed in 1.4.\n",
      "  warnings.warn(\n"
     ]
    }
   ],
   "source": [
    "from sklearn.ensemble import AdaBoostClassifier\n",
    "from sklearn.ensemble import RandomForestClassifier\n",
    "\n",
    "# Create a random forest classifier\n",
    "rf = RandomForestClassifier(n_estimators=15, max_depth=10)\n",
    "\n",
    "# Create an AdaBoost classifier\n",
    "boost = AdaBoostClassifier(base_estimator=rf, n_estimators=30, learning_rate=0.1)\n",
    "\n",
    "# Fit the AdaBoost classifier to the training data\n",
    "boost.fit(X_train, y_train)\n",
    "\n",
    "y_pred = boost.predict(X_test)\n",
    "accuracy = accuracy_score(y_test, y_pred)\n",
    "print(\"Accuracy: {:.2f}%\".format(accuracy * 100))\n",
    "from sklearn.model_selection import cross_val_score\n",
    "scores = cross_val_score(boost, X_test, y_test, cv=5)\n",
    "print(\"Cross Validation Accuracy: %0.2f (+/- %0.2f)\" % (scores.mean(), scores.std() * 2))\n",
    "x_s1_accuracy.append(accuracy * 100)\n"
   ]
  },
  {
   "cell_type": "code",
   "execution_count": 112,
   "id": "6c867ca8",
   "metadata": {},
   "outputs": [
    {
     "name": "stdout",
     "output_type": "stream",
     "text": [
      "Accuracy:  0.9659239842726082\n"
     ]
    }
   ],
   "source": [
    "\n",
    "import xgboost as xgb\n",
    "from sklearn.datasets import load_iris\n",
    "from sklearn.model_selection import train_test_split\n",
    "\n",
    "\n",
    "model = xgb.XGBClassifier(max_depth=5, eta=0.7, objective='multi:softmax', num_class=5, n_estimators=10)\n",
    "\n",
    "model.fit(X_train,y_train)\n",
    "\n",
    "# Make predictions on the test set\n",
    "predictions = model.predict(X_test)\n",
    "\n",
    "# Evaluate the model's accuracy\n",
    "accuracy = (predictions == y_test).mean()\n",
    "print(\"Accuracy: \", accuracy)\n",
    "x_s1_accuracy.append(accuracy * 100)\n"
   ]
  },
  {
   "cell_type": "code",
   "execution_count": 113,
   "id": "ef79d8c7",
   "metadata": {},
   "outputs": [
    {
     "name": "stdout",
     "output_type": "stream",
     "text": [
      "Defaulting to user installation because normal site-packages is not writeable\n",
      "Requirement already satisfied: xgboost in c:\\users\\91982\\appdata\\roaming\\python\\python311\\site-packages (1.7.4)\n",
      "Requirement already satisfied: numpy in c:\\users\\91982\\appdata\\roaming\\python\\python311\\site-packages (from xgboost) (1.24.1)\n",
      "Requirement already satisfied: scipy in c:\\users\\91982\\appdata\\roaming\\python\\python311\\site-packages (from xgboost) (1.10.0)\n"
     ]
    }
   ],
   "source": [
    "!pip install xgboost"
   ]
  },
  {
   "cell_type": "code",
   "execution_count": 114,
   "id": "84250fb4",
   "metadata": {
    "collapsed": true
   },
   "outputs": [
    {
     "name": "stdout",
     "output_type": "stream",
     "text": [
      "0.9744429882044561\n"
     ]
    },
    {
     "name": "stderr",
     "output_type": "stream",
     "text": [
      "C:\\Users\\91982\\AppData\\Roaming\\Python\\Python311\\site-packages\\sklearn\\ensemble\\_base.py:166: FutureWarning: `base_estimator` was renamed to `estimator` in version 1.2 and will be removed in 1.4.\n",
      "  warnings.warn(\n"
     ]
    }
   ],
   "source": [
    "from sklearn.ensemble import BaggingClassifier\n",
    "from sklearn.tree import DecisionTreeClassifier\n",
    "\n",
    "# Create an instance of the DecisionTreeClassifier\n",
    "dt = DecisionTreeClassifier()\n",
    "\n",
    "# Create an instance of the BaggingClassifier\n",
    "bagging = BaggingClassifier(base_estimator=dt, n_estimators=50)\n",
    "\n",
    "# Fit the model to the training data\n",
    "bagging.fit(X_train, y_train)\n",
    "\n",
    "# Predict on the test data\n",
    "y_pred = bagging.predict(X_test)\n",
    "\n",
    "# Evaluate the performance\n",
    "from sklearn.metrics import accuracy_score\n",
    "print(accuracy_score(y_test, y_pred))\n",
    "accuracy=accuracy_score(y_test, y_pred)\n",
    "x_s1_accuracy.append(accuracy * 100)\n"
   ]
  },
  {
   "cell_type": "code",
   "execution_count": 115,
   "id": "78d07fb0",
   "metadata": {},
   "outputs": [
    {
     "data": {
      "text/plain": [
       "[98.75491480996068,\n",
       " 90.43250327653998,\n",
       " 98.23066841415465,\n",
       " 96.59239842726082,\n",
       " 97.44429882044561]"
      ]
     },
     "execution_count": 115,
     "metadata": {},
     "output_type": "execute_result"
    }
   ],
   "source": [
    "x_s1_accuracy"
   ]
  },
  {
   "cell_type": "markdown",
   "id": "7c398901",
   "metadata": {},
   "source": [
    "### SAMPLE 2"
   ]
  },
  {
   "cell_type": "code",
   "execution_count": 117,
   "id": "3853008f",
   "metadata": {},
   "outputs": [],
   "source": [
    "X_train=x_s2\n",
    "y_train=y_s2\n",
    "\n",
    "X_test=x_tl\n",
    "y_test=y_tl"
   ]
  },
  {
   "cell_type": "code",
   "execution_count": 118,
   "id": "ede34f95",
   "metadata": {},
   "outputs": [
    {
     "name": "stdout",
     "output_type": "stream",
     "text": [
      "0.9934469200524246\n",
      "Accuracy: 99.34%\n"
     ]
    }
   ],
   "source": [
    "from sklearn.ensemble import RandomForestClassifier\n",
    "from sklearn.metrics import accuracy_score\n",
    "\n",
    "\n",
    "# Create a Random Forest classifier object\n",
    "rf = RandomForestClassifier()\n",
    "\n",
    "# Fit the classifier to the training data\n",
    "rf.fit(X_train, y_train)\n",
    "\n",
    "# Use the classifier to make predictions on the test data\n",
    "y_pred = rf.predict(X_test)\n",
    "\n",
    "# Evaluate the classifier's accuracy using metrics like accuracy_score\n",
    "from sklearn.metrics import accuracy_score\n",
    "print(accuracy_score(y_test, y_pred))\n",
    "\n",
    "\n",
    "accuracy = accuracy_score(y_test, y_pred)\n",
    "print(\"Accuracy: {:.2f}%\".format(accuracy * 100))\n",
    "x_s2_accuracy.append(accuracy * 100)\n",
    "\n"
   ]
  },
  {
   "cell_type": "code",
   "execution_count": 119,
   "id": "2030b00d",
   "metadata": {
    "collapsed": true
   },
   "outputs": [
    {
     "name": "stdout",
     "output_type": "stream",
     "text": [
      "Accuracy: 0.9043250327653998\n"
     ]
    },
    {
     "name": "stderr",
     "output_type": "stream",
     "text": [
      "C:\\Users\\91982\\AppData\\Roaming\\Python\\Python311\\site-packages\\sklearn\\linear_model\\_logistic.py:458: ConvergenceWarning: lbfgs failed to converge (status=1):\n",
      "STOP: TOTAL NO. of ITERATIONS REACHED LIMIT.\n",
      "\n",
      "Increase the number of iterations (max_iter) or scale the data as shown in:\n",
      "    https://scikit-learn.org/stable/modules/preprocessing.html\n",
      "Please also refer to the documentation for alternative solver options:\n",
      "    https://scikit-learn.org/stable/modules/linear_model.html#logistic-regression\n",
      "  n_iter_i = _check_optimize_result(\n"
     ]
    }
   ],
   "source": [
    "from sklearn.linear_model import LogisticRegression\n",
    "from sklearn.model_selection import train_test_split\n",
    "from sklearn import datasets\n",
    "\n",
    "# train the model\n",
    "lr = LogisticRegression()\n",
    "lr.fit(X_train, y_train)\n",
    "\n",
    "# make predictions on the test set\n",
    "y_pred = lr.predict(X_test)\n",
    "\n",
    "# evaluate the model\n",
    "score = lr.score(X_test, y_test)\n",
    "print(\"Accuracy:\", score)\n",
    "x_s2_accuracy.append(score * 100)\n"
   ]
  },
  {
   "cell_type": "code",
   "execution_count": 120,
   "id": "784b77d2",
   "metadata": {
    "collapsed": true
   },
   "outputs": [
    {
     "name": "stderr",
     "output_type": "stream",
     "text": [
      "C:\\Users\\91982\\AppData\\Roaming\\Python\\Python311\\site-packages\\sklearn\\ensemble\\_base.py:166: FutureWarning: `base_estimator` was renamed to `estimator` in version 1.2 and will be removed in 1.4.\n",
      "  warnings.warn(\n",
      "C:\\Users\\91982\\AppData\\Roaming\\Python\\Python311\\site-packages\\sklearn\\ensemble\\_base.py:166: FutureWarning: `base_estimator` was renamed to `estimator` in version 1.2 and will be removed in 1.4.\n",
      "  warnings.warn(\n",
      "C:\\Users\\91982\\AppData\\Roaming\\Python\\Python311\\site-packages\\sklearn\\ensemble\\_base.py:166: FutureWarning: `base_estimator` was renamed to `estimator` in version 1.2 and will be removed in 1.4.\n",
      "  warnings.warn(\n"
     ]
    },
    {
     "name": "stdout",
     "output_type": "stream",
     "text": [
      "Accuracy: 97.58%\n"
     ]
    },
    {
     "name": "stderr",
     "output_type": "stream",
     "text": [
      "C:\\Users\\91982\\AppData\\Roaming\\Python\\Python311\\site-packages\\sklearn\\ensemble\\_base.py:166: FutureWarning: `base_estimator` was renamed to `estimator` in version 1.2 and will be removed in 1.4.\n",
      "  warnings.warn(\n",
      "C:\\Users\\91982\\AppData\\Roaming\\Python\\Python311\\site-packages\\sklearn\\ensemble\\_base.py:166: FutureWarning: `base_estimator` was renamed to `estimator` in version 1.2 and will be removed in 1.4.\n",
      "  warnings.warn(\n",
      "C:\\Users\\91982\\AppData\\Roaming\\Python\\Python311\\site-packages\\sklearn\\ensemble\\_base.py:166: FutureWarning: `base_estimator` was renamed to `estimator` in version 1.2 and will be removed in 1.4.\n",
      "  warnings.warn(\n"
     ]
    },
    {
     "name": "stdout",
     "output_type": "stream",
     "text": [
      "Cross Validation Accuracy: 1.00 (+/- 0.02)\n"
     ]
    }
   ],
   "source": [
    "from sklearn.ensemble import AdaBoostClassifier\n",
    "from sklearn.ensemble import RandomForestClassifier\n",
    "\n",
    "# Create a random forest classifier\n",
    "rf = RandomForestClassifier(n_estimators=15, max_depth=10)\n",
    "\n",
    "# Create an AdaBoost classifier\n",
    "boost = AdaBoostClassifier(base_estimator=rf, n_estimators=30, learning_rate=0.1)\n",
    "\n",
    "# Fit the AdaBoost classifier to the training data\n",
    "boost.fit(X_train, y_train)\n",
    "\n",
    "y_pred = boost.predict(X_test)\n",
    "accuracy = accuracy_score(y_test, y_pred)\n",
    "print(\"Accuracy: {:.2f}%\".format(accuracy * 100))\n",
    "from sklearn.model_selection import cross_val_score\n",
    "scores = cross_val_score(boost, X_test, y_test, cv=5)\n",
    "print(\"Cross Validation Accuracy: %0.2f (+/- %0.2f)\" % (scores.mean(), scores.std() * 2))\n",
    "x_s2_accuracy.append(accuracy * 100)\n"
   ]
  },
  {
   "cell_type": "code",
   "execution_count": 121,
   "id": "effc6b6f",
   "metadata": {},
   "outputs": [
    {
     "name": "stdout",
     "output_type": "stream",
     "text": [
      "Accuracy:  0.971821756225426\n"
     ]
    }
   ],
   "source": [
    "\n",
    "import xgboost as xgb\n",
    "from sklearn.datasets import load_iris\n",
    "from sklearn.model_selection import train_test_split\n",
    "\n",
    "\n",
    "model = xgb.XGBClassifier(max_depth=5, eta=0.7, objective='multi:softmax', num_class=5, n_estimators=10)\n",
    "\n",
    "model.fit(X_train,y_train)\n",
    "\n",
    "# Make predictions on the test set\n",
    "predictions = model.predict(X_test)\n",
    "\n",
    "# Evaluate the model's accuracy\n",
    "accuracy = (predictions == y_test).mean()\n",
    "print(\"Accuracy: \", accuracy)\n",
    "x_s2_accuracy.append(accuracy * 100)\n"
   ]
  },
  {
   "cell_type": "code",
   "execution_count": 122,
   "id": "a0dbae22",
   "metadata": {
    "collapsed": true
   },
   "outputs": [
    {
     "name": "stdout",
     "output_type": "stream",
     "text": [
      "0.973132372214941\n"
     ]
    },
    {
     "name": "stderr",
     "output_type": "stream",
     "text": [
      "C:\\Users\\91982\\AppData\\Roaming\\Python\\Python311\\site-packages\\sklearn\\ensemble\\_base.py:166: FutureWarning: `base_estimator` was renamed to `estimator` in version 1.2 and will be removed in 1.4.\n",
      "  warnings.warn(\n"
     ]
    }
   ],
   "source": [
    "from sklearn.ensemble import BaggingClassifier\n",
    "from sklearn.tree import DecisionTreeClassifier\n",
    "\n",
    "# Create an instance of the DecisionTreeClassifier\n",
    "dt = DecisionTreeClassifier()\n",
    "\n",
    "# Create an instance of the BaggingClassifier\n",
    "bagging = BaggingClassifier(base_estimator=dt, n_estimators=50)\n",
    "\n",
    "# Fit the model to the training data\n",
    "bagging.fit(X_train, y_train)\n",
    "\n",
    "# Predict on the test data\n",
    "y_pred = bagging.predict(X_test)\n",
    "\n",
    "# Evaluate the performance\n",
    "from sklearn.metrics import accuracy_score\n",
    "print(accuracy_score(y_test, y_pred))\n",
    "accuracy=accuracy_score(y_test, y_pred)\n",
    "x_s2_accuracy.append(accuracy * 100)\n"
   ]
  },
  {
   "cell_type": "code",
   "execution_count": 123,
   "id": "f5e6c8b0",
   "metadata": {},
   "outputs": [
    {
     "data": {
      "text/plain": [
       "[99.34469200524246,\n",
       " 90.43250327653998,\n",
       " 97.57536041939711,\n",
       " 97.1821756225426,\n",
       " 97.31323722149409]"
      ]
     },
     "execution_count": 123,
     "metadata": {},
     "output_type": "execute_result"
    }
   ],
   "source": [
    "x_s2_accuracy"
   ]
  },
  {
   "cell_type": "markdown",
   "id": "de8d5e38",
   "metadata": {},
   "source": [
    "### SAMPLE 3"
   ]
  },
  {
   "cell_type": "code",
   "execution_count": 125,
   "id": "60bc2899",
   "metadata": {},
   "outputs": [],
   "source": [
    "X_train=x_s3\n",
    "y_train=y_s3\n",
    "\n",
    "X_test=x_tl\n",
    "y_test=y_tl"
   ]
  },
  {
   "cell_type": "code",
   "execution_count": 126,
   "id": "0034c5f4",
   "metadata": {},
   "outputs": [
    {
     "name": "stdout",
     "output_type": "stream",
     "text": [
      "0.981651376146789\n",
      "Accuracy: 98.17%\n"
     ]
    }
   ],
   "source": [
    "from sklearn.ensemble import RandomForestClassifier\n",
    "from sklearn.metrics import accuracy_score\n",
    "\n",
    "\n",
    "# Create a Random Forest classifier object\n",
    "rf = RandomForestClassifier()\n",
    "\n",
    "# Fit the classifier to the training data\n",
    "rf.fit(X_train, y_train)\n",
    "\n",
    "# Use the classifier to make predictions on the test data\n",
    "y_pred = rf.predict(X_test)\n",
    "\n",
    "# Evaluate the classifier's accuracy using metrics like accuracy_score\n",
    "from sklearn.metrics import accuracy_score\n",
    "print(accuracy_score(y_test, y_pred))\n",
    "\n",
    "\n",
    "accuracy = accuracy_score(y_test, y_pred)\n",
    "print(\"Accuracy: {:.2f}%\".format(accuracy * 100))\n",
    "x_s3_accuracy.append(accuracy * 100)\n",
    "\n"
   ]
  },
  {
   "cell_type": "code",
   "execution_count": 127,
   "id": "e91cd330",
   "metadata": {
    "collapsed": true
   },
   "outputs": [
    {
     "name": "stdout",
     "output_type": "stream",
     "text": [
      "Accuracy: 0.8217562254259502\n"
     ]
    },
    {
     "name": "stderr",
     "output_type": "stream",
     "text": [
      "C:\\Users\\91982\\AppData\\Roaming\\Python\\Python311\\site-packages\\sklearn\\linear_model\\_logistic.py:458: ConvergenceWarning: lbfgs failed to converge (status=1):\n",
      "STOP: TOTAL NO. of ITERATIONS REACHED LIMIT.\n",
      "\n",
      "Increase the number of iterations (max_iter) or scale the data as shown in:\n",
      "    https://scikit-learn.org/stable/modules/preprocessing.html\n",
      "Please also refer to the documentation for alternative solver options:\n",
      "    https://scikit-learn.org/stable/modules/linear_model.html#logistic-regression\n",
      "  n_iter_i = _check_optimize_result(\n"
     ]
    }
   ],
   "source": [
    "from sklearn.linear_model import LogisticRegression\n",
    "from sklearn.model_selection import train_test_split\n",
    "from sklearn import datasets\n",
    "\n",
    "# train the model\n",
    "lr = LogisticRegression()\n",
    "lr.fit(X_train, y_train)\n",
    "\n",
    "# make predictions on the test set\n",
    "y_pred = lr.predict(X_test)\n",
    "\n",
    "# evaluate the model\n",
    "score = lr.score(X_test, y_test)\n",
    "print(\"Accuracy:\", score)\n",
    "x_s3_accuracy.append(score * 100)\n"
   ]
  },
  {
   "cell_type": "code",
   "execution_count": 128,
   "id": "cc08deed",
   "metadata": {
    "collapsed": true
   },
   "outputs": [
    {
     "name": "stderr",
     "output_type": "stream",
     "text": [
      "C:\\Users\\91982\\AppData\\Roaming\\Python\\Python311\\site-packages\\sklearn\\ensemble\\_base.py:166: FutureWarning: `base_estimator` was renamed to `estimator` in version 1.2 and will be removed in 1.4.\n",
      "  warnings.warn(\n",
      "C:\\Users\\91982\\AppData\\Roaming\\Python\\Python311\\site-packages\\sklearn\\ensemble\\_base.py:166: FutureWarning: `base_estimator` was renamed to `estimator` in version 1.2 and will be removed in 1.4.\n",
      "  warnings.warn(\n",
      "C:\\Users\\91982\\AppData\\Roaming\\Python\\Python311\\site-packages\\sklearn\\ensemble\\_base.py:166: FutureWarning: `base_estimator` was renamed to `estimator` in version 1.2 and will be removed in 1.4.\n",
      "  warnings.warn(\n",
      "C:\\Users\\91982\\AppData\\Roaming\\Python\\Python311\\site-packages\\sklearn\\ensemble\\_base.py:166: FutureWarning: `base_estimator` was renamed to `estimator` in version 1.2 and will be removed in 1.4.\n",
      "  warnings.warn(\n",
      "C:\\Users\\91982\\AppData\\Roaming\\Python\\Python311\\site-packages\\sklearn\\ensemble\\_base.py:166: FutureWarning: `base_estimator` was renamed to `estimator` in version 1.2 and will be removed in 1.4.\n",
      "  warnings.warn(\n"
     ]
    },
    {
     "name": "stdout",
     "output_type": "stream",
     "text": [
      "Accuracy: 97.84%\n",
      "Cross Validation Accuracy: 1.00 (+/- 0.01)\n"
     ]
    },
    {
     "name": "stderr",
     "output_type": "stream",
     "text": [
      "C:\\Users\\91982\\AppData\\Roaming\\Python\\Python311\\site-packages\\sklearn\\ensemble\\_base.py:166: FutureWarning: `base_estimator` was renamed to `estimator` in version 1.2 and will be removed in 1.4.\n",
      "  warnings.warn(\n"
     ]
    }
   ],
   "source": [
    "from sklearn.ensemble import AdaBoostClassifier\n",
    "from sklearn.ensemble import RandomForestClassifier\n",
    "\n",
    "# Create a random forest classifier\n",
    "rf = RandomForestClassifier(n_estimators=15, max_depth=10)\n",
    "\n",
    "# Create an AdaBoost classifier\n",
    "boost = AdaBoostClassifier(base_estimator=rf, n_estimators=30, learning_rate=0.1)\n",
    "\n",
    "# Fit the AdaBoost classifier to the training data\n",
    "boost.fit(X_train, y_train)\n",
    "\n",
    "y_pred = boost.predict(X_test)\n",
    "accuracy = accuracy_score(y_test, y_pred)\n",
    "print(\"Accuracy: {:.2f}%\".format(accuracy * 100))\n",
    "from sklearn.model_selection import cross_val_score\n",
    "scores = cross_val_score(boost, X_test, y_test, cv=5)\n",
    "print(\"Cross Validation Accuracy: %0.2f (+/- %0.2f)\" % (scores.mean(), scores.std() * 2))\n",
    "x_s3_accuracy.append(accuracy * 100)\n"
   ]
  },
  {
   "cell_type": "code",
   "execution_count": 129,
   "id": "30996000",
   "metadata": {},
   "outputs": [
    {
     "name": "stdout",
     "output_type": "stream",
     "text": [
      "Accuracy:  0.9665792922673656\n"
     ]
    }
   ],
   "source": [
    "\n",
    "import xgboost as xgb\n",
    "from sklearn.datasets import load_iris\n",
    "from sklearn.model_selection import train_test_split\n",
    "\n",
    "\n",
    "model = xgb.XGBClassifier(max_depth=5, eta=0.7, objective='multi:softmax', num_class=5, n_estimators=10)\n",
    "\n",
    "model.fit(X_train,y_train)\n",
    "\n",
    "# Make predictions on the test set\n",
    "predictions = model.predict(X_test)\n",
    "\n",
    "# Evaluate the model's accuracy\n",
    "accuracy = (predictions == y_test).mean()\n",
    "print(\"Accuracy: \", accuracy)\n",
    "x_s3_accuracy.append(accuracy * 100)\n"
   ]
  },
  {
   "cell_type": "code",
   "execution_count": 130,
   "id": "1100bed1",
   "metadata": {
    "collapsed": true
   },
   "outputs": [
    {
     "name": "stdout",
     "output_type": "stream",
     "text": [
      "0.937745740498034\n"
     ]
    },
    {
     "name": "stderr",
     "output_type": "stream",
     "text": [
      "C:\\Users\\91982\\AppData\\Roaming\\Python\\Python311\\site-packages\\sklearn\\ensemble\\_base.py:166: FutureWarning: `base_estimator` was renamed to `estimator` in version 1.2 and will be removed in 1.4.\n",
      "  warnings.warn(\n"
     ]
    }
   ],
   "source": [
    "from sklearn.ensemble import BaggingClassifier\n",
    "from sklearn.tree import DecisionTreeClassifier\n",
    "\n",
    "# Create an instance of the DecisionTreeClassifier\n",
    "dt = DecisionTreeClassifier()\n",
    "\n",
    "# Create an instance of the BaggingClassifier\n",
    "bagging = BaggingClassifier(base_estimator=dt, n_estimators=50)\n",
    "\n",
    "# Fit the model to the training data\n",
    "bagging.fit(X_train, y_train)\n",
    "\n",
    "# Predict on the test data\n",
    "y_pred = bagging.predict(X_test)\n",
    "\n",
    "# Evaluate the performance\n",
    "from sklearn.metrics import accuracy_score\n",
    "print(accuracy_score(y_test, y_pred))\n",
    "accuracy=accuracy_score(y_test, y_pred)\n",
    "x_s3_accuracy.append(accuracy * 100)\n"
   ]
  },
  {
   "cell_type": "code",
   "execution_count": 131,
   "id": "f0baed8a",
   "metadata": {},
   "outputs": [
    {
     "data": {
      "text/plain": [
       "[98.1651376146789,\n",
       " 82.17562254259502,\n",
       " 97.83748361730014,\n",
       " 96.65792922673656,\n",
       " 93.7745740498034]"
      ]
     },
     "execution_count": 131,
     "metadata": {},
     "output_type": "execute_result"
    }
   ],
   "source": [
    "x_s3_accuracy"
   ]
  },
  {
   "cell_type": "markdown",
   "id": "3cae0c42",
   "metadata": {},
   "source": [
    "### SAMPLE 4"
   ]
  },
  {
   "cell_type": "code",
   "execution_count": 133,
   "id": "fdf757e1",
   "metadata": {},
   "outputs": [],
   "source": [
    "X_train=x_s4\n",
    "y_train=y_s4\n",
    "\n",
    "X_test=x_tl\n",
    "y_test=y_tl"
   ]
  },
  {
   "cell_type": "code",
   "execution_count": 134,
   "id": "3a8fbf74",
   "metadata": {},
   "outputs": [
    {
     "name": "stdout",
     "output_type": "stream",
     "text": [
      "0.6769331585845347\n",
      "Accuracy: 67.69%\n"
     ]
    }
   ],
   "source": [
    "from sklearn.ensemble import RandomForestClassifier\n",
    "from sklearn.metrics import accuracy_score\n",
    "\n",
    "\n",
    "# Create a Random Forest classifier object\n",
    "rf = RandomForestClassifier()\n",
    "\n",
    "# Fit the classifier to the training data\n",
    "rf.fit(X_train, y_train)\n",
    "\n",
    "# Use the classifier to make predictions on the test data\n",
    "y_pred = rf.predict(X_test)\n",
    "\n",
    "# Evaluate the classifier's accuracy using metrics like accuracy_score\n",
    "from sklearn.metrics import accuracy_score\n",
    "print(accuracy_score(y_test, y_pred))\n",
    "\n",
    "\n",
    "accuracy = accuracy_score(y_test, y_pred)\n",
    "print(\"Accuracy: {:.2f}%\".format(accuracy * 100))\n",
    "x_s4_accuracy.append(accuracy * 100)\n",
    "\n"
   ]
  },
  {
   "cell_type": "code",
   "execution_count": 135,
   "id": "d8b8cd4e",
   "metadata": {
    "collapsed": true
   },
   "outputs": [
    {
     "name": "stdout",
     "output_type": "stream",
     "text": [
      "Accuracy: 0.6192660550458715\n"
     ]
    },
    {
     "name": "stderr",
     "output_type": "stream",
     "text": [
      "C:\\Users\\91982\\AppData\\Roaming\\Python\\Python311\\site-packages\\sklearn\\linear_model\\_logistic.py:458: ConvergenceWarning: lbfgs failed to converge (status=1):\n",
      "STOP: TOTAL NO. of ITERATIONS REACHED LIMIT.\n",
      "\n",
      "Increase the number of iterations (max_iter) or scale the data as shown in:\n",
      "    https://scikit-learn.org/stable/modules/preprocessing.html\n",
      "Please also refer to the documentation for alternative solver options:\n",
      "    https://scikit-learn.org/stable/modules/linear_model.html#logistic-regression\n",
      "  n_iter_i = _check_optimize_result(\n"
     ]
    }
   ],
   "source": [
    "from sklearn.linear_model import LogisticRegression\n",
    "from sklearn.model_selection import train_test_split\n",
    "from sklearn import datasets\n",
    "\n",
    "# train the model\n",
    "lr = LogisticRegression()\n",
    "lr.fit(X_train, y_train)\n",
    "\n",
    "# make predictions on the test set\n",
    "y_pred = lr.predict(X_test)\n",
    "\n",
    "# evaluate the model\n",
    "score = lr.score(X_test, y_test)\n",
    "print(\"Accuracy:\", score)\n",
    "x_s4_accuracy.append(score * 100)\n"
   ]
  },
  {
   "cell_type": "code",
   "execution_count": 136,
   "id": "b28336d5",
   "metadata": {
    "collapsed": true
   },
   "outputs": [
    {
     "name": "stderr",
     "output_type": "stream",
     "text": [
      "C:\\Users\\91982\\AppData\\Roaming\\Python\\Python311\\site-packages\\sklearn\\ensemble\\_base.py:166: FutureWarning: `base_estimator` was renamed to `estimator` in version 1.2 and will be removed in 1.4.\n",
      "  warnings.warn(\n",
      "C:\\Users\\91982\\AppData\\Roaming\\Python\\Python311\\site-packages\\sklearn\\ensemble\\_base.py:166: FutureWarning: `base_estimator` was renamed to `estimator` in version 1.2 and will be removed in 1.4.\n",
      "  warnings.warn(\n",
      "C:\\Users\\91982\\AppData\\Roaming\\Python\\Python311\\site-packages\\sklearn\\ensemble\\_base.py:166: FutureWarning: `base_estimator` was renamed to `estimator` in version 1.2 and will be removed in 1.4.\n",
      "  warnings.warn(\n",
      "C:\\Users\\91982\\AppData\\Roaming\\Python\\Python311\\site-packages\\sklearn\\ensemble\\_base.py:166: FutureWarning: `base_estimator` was renamed to `estimator` in version 1.2 and will be removed in 1.4.\n",
      "  warnings.warn(\n"
     ]
    },
    {
     "name": "stdout",
     "output_type": "stream",
     "text": [
      "Accuracy: 67.69%\n",
      "Cross Validation Accuracy: 1.00 (+/- 0.01)\n"
     ]
    },
    {
     "name": "stderr",
     "output_type": "stream",
     "text": [
      "C:\\Users\\91982\\AppData\\Roaming\\Python\\Python311\\site-packages\\sklearn\\ensemble\\_base.py:166: FutureWarning: `base_estimator` was renamed to `estimator` in version 1.2 and will be removed in 1.4.\n",
      "  warnings.warn(\n",
      "C:\\Users\\91982\\AppData\\Roaming\\Python\\Python311\\site-packages\\sklearn\\ensemble\\_base.py:166: FutureWarning: `base_estimator` was renamed to `estimator` in version 1.2 and will be removed in 1.4.\n",
      "  warnings.warn(\n"
     ]
    }
   ],
   "source": [
    "from sklearn.ensemble import AdaBoostClassifier\n",
    "from sklearn.ensemble import RandomForestClassifier\n",
    "\n",
    "# Create a random forest classifier\n",
    "rf = RandomForestClassifier(n_estimators=15, max_depth=10)\n",
    "\n",
    "# Create an AdaBoost classifier\n",
    "boost = AdaBoostClassifier(base_estimator=rf, n_estimators=30, learning_rate=0.1)\n",
    "\n",
    "# Fit the AdaBoost classifier to the training data\n",
    "boost.fit(X_train, y_train)\n",
    "\n",
    "y_pred = boost.predict(X_test)\n",
    "accuracy = accuracy_score(y_test, y_pred)\n",
    "print(\"Accuracy: {:.2f}%\".format(accuracy * 100))\n",
    "from sklearn.model_selection import cross_val_score\n",
    "scores = cross_val_score(boost, X_test, y_test, cv=5)\n",
    "print(\"Cross Validation Accuracy: %0.2f (+/- %0.2f)\" % (scores.mean(), scores.std() * 2))\n",
    "x_s4_accuracy.append(accuracy * 100)\n"
   ]
  },
  {
   "cell_type": "code",
   "execution_count": 137,
   "id": "e2911820",
   "metadata": {},
   "outputs": [
    {
     "name": "stdout",
     "output_type": "stream",
     "text": [
      "Accuracy:  0.6769331585845347\n"
     ]
    }
   ],
   "source": [
    "\n",
    "import xgboost as xgb\n",
    "from sklearn.datasets import load_iris\n",
    "from sklearn.model_selection import train_test_split\n",
    "\n",
    "\n",
    "model = xgb.XGBClassifier(max_depth=5, eta=0.7, objective='multi:softmax', num_class=5, n_estimators=10)\n",
    "\n",
    "model.fit(X_train,y_train)\n",
    "\n",
    "# Make predictions on the test set\n",
    "predictions = model.predict(X_test)\n",
    "\n",
    "# Evaluate the model's accuracy\n",
    "accuracy = (predictions == y_test).mean()\n",
    "print(\"Accuracy: \", accuracy)\n",
    "x_s4_accuracy.append(accuracy * 100)\n"
   ]
  },
  {
   "cell_type": "code",
   "execution_count": 138,
   "id": "c92e7fed",
   "metadata": {
    "collapsed": true
   },
   "outputs": [
    {
     "name": "stdout",
     "output_type": "stream",
     "text": [
      "0.6664482306684142\n"
     ]
    },
    {
     "name": "stderr",
     "output_type": "stream",
     "text": [
      "C:\\Users\\91982\\AppData\\Roaming\\Python\\Python311\\site-packages\\sklearn\\ensemble\\_base.py:166: FutureWarning: `base_estimator` was renamed to `estimator` in version 1.2 and will be removed in 1.4.\n",
      "  warnings.warn(\n"
     ]
    }
   ],
   "source": [
    "from sklearn.ensemble import BaggingClassifier\n",
    "from sklearn.tree import DecisionTreeClassifier\n",
    "\n",
    "# Create an instance of the DecisionTreeClassifier\n",
    "dt = DecisionTreeClassifier()\n",
    "\n",
    "# Create an instance of the BaggingClassifier\n",
    "bagging = BaggingClassifier(base_estimator=dt, n_estimators=50)\n",
    "\n",
    "# Fit the model to the training data\n",
    "bagging.fit(X_train, y_train)\n",
    "\n",
    "# Predict on the test data\n",
    "y_pred = bagging.predict(X_test)\n",
    "\n",
    "# Evaluate the performance\n",
    "from sklearn.metrics import accuracy_score\n",
    "print(accuracy_score(y_test, y_pred))\n",
    "accuracy=accuracy_score(y_test, y_pred)\n",
    "x_s4_accuracy.append(accuracy * 100)\n"
   ]
  },
  {
   "cell_type": "code",
   "execution_count": 139,
   "id": "17dbc328",
   "metadata": {},
   "outputs": [
    {
     "data": {
      "text/plain": [
       "[67.69331585845347,\n",
       " 61.92660550458715,\n",
       " 67.69331585845347,\n",
       " 67.69331585845347,\n",
       " 66.64482306684143]"
      ]
     },
     "execution_count": 139,
     "metadata": {},
     "output_type": "execute_result"
    }
   ],
   "source": [
    "x_s4_accuracy"
   ]
  },
  {
   "cell_type": "code",
   "execution_count": 141,
   "id": "6e749a67",
   "metadata": {},
   "outputs": [],
   "source": [
    "FinalData=pd.DataFrame(data=(x_s1_accuracy,x_s2_accuracy,x_s3_accuracy,x_s4_accuracy))"
   ]
  },
  {
   "cell_type": "code",
   "execution_count": 142,
   "id": "a6197f38",
   "metadata": {},
   "outputs": [
    {
     "data": {
      "text/html": [
       "<div>\n",
       "<style scoped>\n",
       "    .dataframe tbody tr th:only-of-type {\n",
       "        vertical-align: middle;\n",
       "    }\n",
       "\n",
       "    .dataframe tbody tr th {\n",
       "        vertical-align: top;\n",
       "    }\n",
       "\n",
       "    .dataframe thead th {\n",
       "        text-align: right;\n",
       "    }\n",
       "</style>\n",
       "<table border=\"1\" class=\"dataframe\">\n",
       "  <thead>\n",
       "    <tr style=\"text-align: right;\">\n",
       "      <th></th>\n",
       "      <th>0</th>\n",
       "      <th>1</th>\n",
       "      <th>2</th>\n",
       "      <th>3</th>\n",
       "      <th>4</th>\n",
       "    </tr>\n",
       "  </thead>\n",
       "  <tbody>\n",
       "    <tr>\n",
       "      <th>0</th>\n",
       "      <td>98.754915</td>\n",
       "      <td>90.432503</td>\n",
       "      <td>98.230668</td>\n",
       "      <td>96.592398</td>\n",
       "      <td>97.444299</td>\n",
       "    </tr>\n",
       "    <tr>\n",
       "      <th>1</th>\n",
       "      <td>99.344692</td>\n",
       "      <td>90.432503</td>\n",
       "      <td>97.575360</td>\n",
       "      <td>97.182176</td>\n",
       "      <td>97.313237</td>\n",
       "    </tr>\n",
       "    <tr>\n",
       "      <th>2</th>\n",
       "      <td>98.165138</td>\n",
       "      <td>82.175623</td>\n",
       "      <td>97.837484</td>\n",
       "      <td>96.657929</td>\n",
       "      <td>93.774574</td>\n",
       "    </tr>\n",
       "    <tr>\n",
       "      <th>3</th>\n",
       "      <td>67.693316</td>\n",
       "      <td>61.926606</td>\n",
       "      <td>67.693316</td>\n",
       "      <td>67.693316</td>\n",
       "      <td>66.644823</td>\n",
       "    </tr>\n",
       "  </tbody>\n",
       "</table>\n",
       "</div>"
      ],
      "text/plain": [
       "           0          1          2          3          4\n",
       "0  98.754915  90.432503  98.230668  96.592398  97.444299\n",
       "1  99.344692  90.432503  97.575360  97.182176  97.313237\n",
       "2  98.165138  82.175623  97.837484  96.657929  93.774574\n",
       "3  67.693316  61.926606  67.693316  67.693316  66.644823"
      ]
     },
     "execution_count": 142,
     "metadata": {},
     "output_type": "execute_result"
    }
   ],
   "source": [
    "FinalData"
   ]
  },
  {
   "cell_type": "code",
   "execution_count": 145,
   "id": "2e68749f",
   "metadata": {},
   "outputs": [],
   "source": [
    "FinalData=FinalData.transpose()"
   ]
  },
  {
   "cell_type": "code",
   "execution_count": 146,
   "id": "9ccd0d78",
   "metadata": {},
   "outputs": [
    {
     "data": {
      "text/html": [
       "<div>\n",
       "<style scoped>\n",
       "    .dataframe tbody tr th:only-of-type {\n",
       "        vertical-align: middle;\n",
       "    }\n",
       "\n",
       "    .dataframe tbody tr th {\n",
       "        vertical-align: top;\n",
       "    }\n",
       "\n",
       "    .dataframe thead th {\n",
       "        text-align: right;\n",
       "    }\n",
       "</style>\n",
       "<table border=\"1\" class=\"dataframe\">\n",
       "  <thead>\n",
       "    <tr style=\"text-align: right;\">\n",
       "      <th></th>\n",
       "      <th>0</th>\n",
       "      <th>1</th>\n",
       "      <th>2</th>\n",
       "      <th>3</th>\n",
       "    </tr>\n",
       "  </thead>\n",
       "  <tbody>\n",
       "    <tr>\n",
       "      <th>0</th>\n",
       "      <td>98.754915</td>\n",
       "      <td>99.344692</td>\n",
       "      <td>98.165138</td>\n",
       "      <td>67.693316</td>\n",
       "    </tr>\n",
       "    <tr>\n",
       "      <th>1</th>\n",
       "      <td>90.432503</td>\n",
       "      <td>90.432503</td>\n",
       "      <td>82.175623</td>\n",
       "      <td>61.926606</td>\n",
       "    </tr>\n",
       "    <tr>\n",
       "      <th>2</th>\n",
       "      <td>98.230668</td>\n",
       "      <td>97.575360</td>\n",
       "      <td>97.837484</td>\n",
       "      <td>67.693316</td>\n",
       "    </tr>\n",
       "    <tr>\n",
       "      <th>3</th>\n",
       "      <td>96.592398</td>\n",
       "      <td>97.182176</td>\n",
       "      <td>96.657929</td>\n",
       "      <td>67.693316</td>\n",
       "    </tr>\n",
       "    <tr>\n",
       "      <th>4</th>\n",
       "      <td>97.444299</td>\n",
       "      <td>97.313237</td>\n",
       "      <td>93.774574</td>\n",
       "      <td>66.644823</td>\n",
       "    </tr>\n",
       "  </tbody>\n",
       "</table>\n",
       "</div>"
      ],
      "text/plain": [
       "           0          1          2          3\n",
       "0  98.754915  99.344692  98.165138  67.693316\n",
       "1  90.432503  90.432503  82.175623  61.926606\n",
       "2  98.230668  97.575360  97.837484  67.693316\n",
       "3  96.592398  97.182176  96.657929  67.693316\n",
       "4  97.444299  97.313237  93.774574  66.644823"
      ]
     },
     "execution_count": 146,
     "metadata": {},
     "output_type": "execute_result"
    }
   ],
   "source": [
    "FinalData"
   ]
  },
  {
   "cell_type": "code",
   "execution_count": 153,
   "id": "2008580e",
   "metadata": {},
   "outputs": [],
   "source": [
    "FinalData.index=['RandomForest','LogisticRegression','ADA_Boost','XGBoost','Bagging']\n",
    "FinalData.columns=['Sample1: Random ','Sample2: Systematic','Sample3: Stratified','Sample4: Clustering']"
   ]
  },
  {
   "cell_type": "code",
   "execution_count": 154,
   "id": "8003b440",
   "metadata": {},
   "outputs": [
    {
     "data": {
      "text/html": [
       "<div>\n",
       "<style scoped>\n",
       "    .dataframe tbody tr th:only-of-type {\n",
       "        vertical-align: middle;\n",
       "    }\n",
       "\n",
       "    .dataframe tbody tr th {\n",
       "        vertical-align: top;\n",
       "    }\n",
       "\n",
       "    .dataframe thead th {\n",
       "        text-align: right;\n",
       "    }\n",
       "</style>\n",
       "<table border=\"1\" class=\"dataframe\">\n",
       "  <thead>\n",
       "    <tr style=\"text-align: right;\">\n",
       "      <th></th>\n",
       "      <th>Sample1: Random</th>\n",
       "      <th>Sample2: Systematic</th>\n",
       "      <th>Sample3: Stratified</th>\n",
       "      <th>Sample4: Clustering</th>\n",
       "    </tr>\n",
       "  </thead>\n",
       "  <tbody>\n",
       "    <tr>\n",
       "      <th>RandomForest</th>\n",
       "      <td>98.754915</td>\n",
       "      <td>99.344692</td>\n",
       "      <td>98.165138</td>\n",
       "      <td>67.693316</td>\n",
       "    </tr>\n",
       "    <tr>\n",
       "      <th>LogisticRegression</th>\n",
       "      <td>90.432503</td>\n",
       "      <td>90.432503</td>\n",
       "      <td>82.175623</td>\n",
       "      <td>61.926606</td>\n",
       "    </tr>\n",
       "    <tr>\n",
       "      <th>ADA_Boost</th>\n",
       "      <td>98.230668</td>\n",
       "      <td>97.575360</td>\n",
       "      <td>97.837484</td>\n",
       "      <td>67.693316</td>\n",
       "    </tr>\n",
       "    <tr>\n",
       "      <th>XGBoost</th>\n",
       "      <td>96.592398</td>\n",
       "      <td>97.182176</td>\n",
       "      <td>96.657929</td>\n",
       "      <td>67.693316</td>\n",
       "    </tr>\n",
       "    <tr>\n",
       "      <th>Bagging</th>\n",
       "      <td>97.444299</td>\n",
       "      <td>97.313237</td>\n",
       "      <td>93.774574</td>\n",
       "      <td>66.644823</td>\n",
       "    </tr>\n",
       "  </tbody>\n",
       "</table>\n",
       "</div>"
      ],
      "text/plain": [
       "                    Sample1: Random   Sample2: Systematic  \\\n",
       "RandomForest               98.754915            99.344692   \n",
       "LogisticRegression         90.432503            90.432503   \n",
       "ADA_Boost                  98.230668            97.575360   \n",
       "XGBoost                    96.592398            97.182176   \n",
       "Bagging                    97.444299            97.313237   \n",
       "\n",
       "                    Sample3: Stratified  Sample4: Clustering  \n",
       "RandomForest                  98.165138            67.693316  \n",
       "LogisticRegression            82.175623            61.926606  \n",
       "ADA_Boost                     97.837484            67.693316  \n",
       "XGBoost                       96.657929            67.693316  \n",
       "Bagging                       93.774574            66.644823  "
      ]
     },
     "execution_count": 154,
     "metadata": {},
     "output_type": "execute_result"
    }
   ],
   "source": [
    "FinalData"
   ]
  },
  {
   "cell_type": "code",
   "execution_count": null,
   "id": "fb9900cf",
   "metadata": {},
   "outputs": [],
   "source": []
  }
 ],
 "metadata": {
  "kernelspec": {
   "display_name": "Python 3 (ipykernel)",
   "language": "python",
   "name": "python3"
  },
  "language_info": {
   "codemirror_mode": {
    "name": "ipython",
    "version": 3
   },
   "file_extension": ".py",
   "mimetype": "text/x-python",
   "name": "python",
   "nbconvert_exporter": "python",
   "pygments_lexer": "ipython3",
   "version": "3.11.1"
  }
 },
 "nbformat": 4,
 "nbformat_minor": 5
}
